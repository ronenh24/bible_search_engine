{
 "cells": [
  {
   "cell_type": "markdown",
   "metadata": {},
   "source": [
    "# Author"
   ]
  },
  {
   "cell_type": "markdown",
   "metadata": {},
   "source": [
    "Ronen Huang"
   ]
  },
  {
   "cell_type": "markdown",
   "metadata": {},
   "source": [
    "# Import Libraries"
   ]
  },
  {
   "cell_type": "code",
   "execution_count": null,
   "metadata": {},
   "outputs": [],
   "source": [
    "import os\n",
    "from bible_search_engine.components.preprocess import NLPTokenizer\n",
    "from bible_search_engine.components.indexing import BibleChapterIndex\n",
    "from bible_search_engine.components.ranker import RandomRanker, TFIDFRanker, BM25Ranker, DirichletLMRanker, BiEncoderRanker, ColbertRanker\n",
    "from bible_search_engine.components.relevance import Relevance\n",
    "from bible_search_engine.components.l2r import L2RRanker, L2RFeatureExtractor\n",
    "import pandas as pd\n",
    "import matplotlib.pyplot as plt\n",
    "import seaborn as sns\n",
    "from tqdm import tqdm\n",
    "import orjson\n",
    "import numpy as np\n",
    "import joblib"
   ]
  },
  {
   "cell_type": "code",
   "execution_count": 2,
   "metadata": {},
   "outputs": [],
   "source": [
    "train_queries_path = 'bible_search_engine/bible_queries_relevances/train_queries_relevances.csv'\n",
    "test_queries_path = 'bible_search_engine/bible_queries_relevances/test_queries_relevances.csv'"
   ]
  },
  {
   "cell_type": "code",
   "execution_count": 3,
   "metadata": {},
   "outputs": [],
   "source": [
    "eval_ranker = Relevance([train_queries_path, test_queries_path])"
   ]
  },
  {
   "cell_type": "markdown",
   "metadata": {},
   "source": [
    "# Create Bible Chapter Index"
   ]
  },
  {
   "cell_type": "code",
   "execution_count": 4,
   "metadata": {},
   "outputs": [
    {
     "name": "stderr",
     "output_type": "stream",
     "text": [
      "Device set to use cpu\n"
     ]
    }
   ],
   "source": [
    "nlp_tokenizer = NLPTokenizer()"
   ]
  },
  {
   "cell_type": "code",
   "execution_count": 5,
   "metadata": {},
   "outputs": [
    {
     "name": "stderr",
     "output_type": "stream",
     "text": [
      "0it [00:00, ?it/s]"
     ]
    },
    {
     "name": "stderr",
     "output_type": "stream",
     "text": [
      "10421it [00:00, 101342.56it/s]\n",
      "1189it [00:00, 261745.00it/s]\n",
      "10421it [00:00, 550163.53it/s]\n",
      "1189it [00:00, 16162.05it/s]"
     ]
    },
    {
     "name": "stdout",
     "output_type": "stream",
     "text": [
      "Loaded Bible Index from c:\\Users\\ronen\\Documents\\Projects\\bible_search_engine\\src\\bible_search_engine\\bible_index_niv\n"
     ]
    },
    {
     "name": "stderr",
     "output_type": "stream",
     "text": [
      "\n"
     ]
    }
   ],
   "source": [
    "bible_chapter_index = BibleChapterIndex()\n",
    "bible_chapter_index.load('bible_search_engine/bible_index_niv')"
   ]
  },
  {
   "cell_type": "markdown",
   "metadata": {},
   "source": [
    "# Evaluate Random Ranker"
   ]
  },
  {
   "cell_type": "code",
   "execution_count": 6,
   "metadata": {},
   "outputs": [],
   "source": [
    "random_ranker = RandomRanker(bible_chapter_index, nlp_tokenizer)"
   ]
  },
  {
   "cell_type": "code",
   "execution_count": 7,
   "metadata": {},
   "outputs": [
    {
     "name": "stdout",
     "output_type": "stream",
     "text": [
      "What is the significance of the covenant God made with Abraham?\n"
     ]
    },
    {
     "name": "stderr",
     "output_type": "stream",
     "text": [
      "100%|██████████| 1189/1189 [00:00<00:00, 144413.39it/s]\n"
     ]
    },
    {
     "name": "stdout",
     "output_type": "stream",
     "text": [
      "0.0\n",
      "\n",
      "If God is merciful and kind, why do people still suffer in this world?\n"
     ]
    },
    {
     "name": "stderr",
     "output_type": "stream",
     "text": [
      "100%|██████████| 1189/1189 [00:00<00:00, 40168.40it/s]\n"
     ]
    },
    {
     "name": "stdout",
     "output_type": "stream",
     "text": [
      "0.13333333333333333\n",
      "\n",
      "How do the ten commandments apply today?\n"
     ]
    },
    {
     "name": "stderr",
     "output_type": "stream",
     "text": [
      "100%|██████████| 1189/1189 [00:00<00:00, 97915.41it/s]\n"
     ]
    },
    {
     "name": "stdout",
     "output_type": "stream",
     "text": [
      "0.4666666666666667\n",
      "\n",
      "Where does God show up in our lives if he is not bounded by this world?\n"
     ]
    },
    {
     "name": "stderr",
     "output_type": "stream",
     "text": [
      "100%|██████████| 1189/1189 [00:00<00:00, 47995.57it/s]\n"
     ]
    },
    {
     "name": "stdout",
     "output_type": "stream",
     "text": [
      "0.6\n",
      "\n",
      "Who were the kings of Israel and were they faithful to God?\n"
     ]
    },
    {
     "name": "stderr",
     "output_type": "stream",
     "text": [
      "100%|██████████| 1189/1189 [00:00<00:00, 60267.65it/s]\n"
     ]
    },
    {
     "name": "stdout",
     "output_type": "stream",
     "text": [
      "0.5333333333333333\n",
      "\n",
      "What are the eternal consequences of sin?\n"
     ]
    },
    {
     "name": "stderr",
     "output_type": "stream",
     "text": [
      "100%|██████████| 1189/1189 [00:00<00:00, 58146.23it/s]\n"
     ]
    },
    {
     "name": "stdout",
     "output_type": "stream",
     "text": [
      "0.26666666666666666\n",
      "\n",
      "Why did Jesus die on the cross?\n"
     ]
    },
    {
     "name": "stderr",
     "output_type": "stream",
     "text": [
      "100%|██████████| 1189/1189 [00:00<00:00, 28838.08it/s]\n"
     ]
    },
    {
     "name": "stdout",
     "output_type": "stream",
     "text": [
      "0.2\n",
      "\n",
      "How can we be faithful to God?\n"
     ]
    },
    {
     "name": "stderr",
     "output_type": "stream",
     "text": [
      "100%|██████████| 1189/1189 [00:00<00:00, 117482.80it/s]\n"
     ]
    },
    {
     "name": "stdout",
     "output_type": "stream",
     "text": [
      "0.26666666666666666\n",
      "\n",
      "Where does God lead his people to?\n"
     ]
    },
    {
     "name": "stderr",
     "output_type": "stream",
     "text": [
      "100%|██████████| 1189/1189 [00:00<00:00, 86069.30it/s]\n"
     ]
    },
    {
     "name": "stdout",
     "output_type": "stream",
     "text": [
      "0.5333333333333333\n",
      "\n",
      "Who are the enemies of God?\n"
     ]
    },
    {
     "name": "stderr",
     "output_type": "stream",
     "text": [
      "100%|██████████| 1189/1189 [00:00<00:00, 132725.49it/s]\n"
     ]
    },
    {
     "name": "stdout",
     "output_type": "stream",
     "text": [
      "0.7333333333333333\n",
      "\n",
      "What did God do to unloyal servants?\n"
     ]
    },
    {
     "name": "stderr",
     "output_type": "stream",
     "text": [
      "100%|██████████| 1189/1189 [00:00<00:00, 183663.96it/s]\n"
     ]
    },
    {
     "name": "stdout",
     "output_type": "stream",
     "text": [
      "0.06666666666666667\n",
      "\n",
      "Why should we listen to authority and what are the exceptions?\n"
     ]
    },
    {
     "name": "stderr",
     "output_type": "stream",
     "text": [
      "100%|██████████| 1189/1189 [00:00<00:00, 143784.67it/s]\n"
     ]
    },
    {
     "name": "stdout",
     "output_type": "stream",
     "text": [
      "0.0\n",
      "\n",
      "How do we get saved and know when we are saved?\n"
     ]
    },
    {
     "name": "stderr",
     "output_type": "stream",
     "text": [
      "100%|██████████| 1189/1189 [00:00<00:00, 63830.68it/s]\n"
     ]
    },
    {
     "name": "stdout",
     "output_type": "stream",
     "text": [
      "0.06666666666666667\n",
      "\n",
      "Where did Paul travel to spread the good news?\n"
     ]
    },
    {
     "name": "stderr",
     "output_type": "stream",
     "text": [
      "100%|██████████| 1189/1189 [00:00<00:00, 76056.54it/s]\n"
     ]
    },
    {
     "name": "stdout",
     "output_type": "stream",
     "text": [
      "0.06666666666666667\n",
      "\n",
      "Who does God want us to reach out to?\n"
     ]
    },
    {
     "name": "stderr",
     "output_type": "stream",
     "text": [
      "100%|██████████| 1189/1189 [00:00<00:00, 95646.86it/s]\n"
     ]
    },
    {
     "name": "stdout",
     "output_type": "stream",
     "text": [
      "0.0\n",
      "\n",
      "What does God say about spirituality?\n"
     ]
    },
    {
     "name": "stderr",
     "output_type": "stream",
     "text": [
      "100%|██████████| 1189/1189 [00:00<00:00, 247384.66it/s]\n"
     ]
    },
    {
     "name": "stdout",
     "output_type": "stream",
     "text": [
      "0.4\n",
      "\n",
      "Why did Judas betray Jesus?\n"
     ]
    },
    {
     "name": "stderr",
     "output_type": "stream",
     "text": [
      "100%|██████████| 1189/1189 [00:00<00:00, 87124.87it/s]\n"
     ]
    },
    {
     "name": "stdout",
     "output_type": "stream",
     "text": [
      "0.13333333333333333\n",
      "\n",
      "How do we face discrimination and injustice?\n"
     ]
    },
    {
     "name": "stderr",
     "output_type": "stream",
     "text": [
      "100%|██████████| 1189/1189 [00:00<00:00, 109761.80it/s]\n"
     ]
    },
    {
     "name": "stdout",
     "output_type": "stream",
     "text": [
      "0.3333333333333333\n",
      "\n",
      "Where do we find comfort and peace?\n"
     ]
    },
    {
     "name": "stderr",
     "output_type": "stream",
     "text": [
      "100%|██████████| 1189/1189 [00:00<00:00, 76011.33it/s]\n"
     ]
    },
    {
     "name": "stdout",
     "output_type": "stream",
     "text": [
      "0.26666666666666666\n",
      "\n",
      "Who has received prophecies from God?\n"
     ]
    },
    {
     "name": "stderr",
     "output_type": "stream",
     "text": [
      "100%|██████████| 1189/1189 [00:00<00:00, 144025.51it/s]\n"
     ]
    },
    {
     "name": "stdout",
     "output_type": "stream",
     "text": [
      "0.4\n",
      "\n"
     ]
    }
   ],
   "source": [
    "random_ranker_eval_results = eval_ranker.evaluate_ranker_results(random_ranker)"
   ]
  },
  {
   "cell_type": "code",
   "execution_count": 8,
   "metadata": {},
   "outputs": [
    {
     "data": {
      "text/plain": [
       "[('What is the significance of the covenant God made with Abraham?', 0.0),\n",
       " ('If God is merciful and kind, why do people still suffer in this world?',\n",
       "  0.13333333333333333),\n",
       " ('How do the ten commandments apply today?', 0.4666666666666667),\n",
       " ('Where does God show up in our lives if he is not bounded by this world?',\n",
       "  0.6),\n",
       " ('Who were the kings of Israel and were they faithful to God?',\n",
       "  0.5333333333333333),\n",
       " ('What are the eternal consequences of sin?', 0.26666666666666666),\n",
       " ('Why did Jesus die on the cross?', 0.2),\n",
       " ('How can we be faithful to God?', 0.26666666666666666),\n",
       " ('Where does God lead his people to?', 0.5333333333333333),\n",
       " ('Who are the enemies of God?', 0.7333333333333333),\n",
       " ('What did God do to unloyal servants?', 0.06666666666666667),\n",
       " ('Why should we listen to authority and what are the exceptions?', 0.0),\n",
       " ('How do we get saved and know when we are saved?', 0.06666666666666667),\n",
       " ('Where did Paul travel to spread the good news?', 0.06666666666666667),\n",
       " ('Who does God want us to reach out to?', 0.0),\n",
       " ('What does God say about spirituality?', 0.4),\n",
       " ('Why did Judas betray Jesus?', 0.13333333333333333),\n",
       " ('How do we face discrimination and injustice?', 0.3333333333333333),\n",
       " ('Where do we find comfort and peace?', 0.26666666666666666),\n",
       " ('Who has received prophecies from God?', 0.4)]"
      ]
     },
     "execution_count": 8,
     "metadata": {},
     "output_type": "execute_result"
    }
   ],
   "source": [
    "random_ranker_eval_results"
   ]
  },
  {
   "cell_type": "markdown",
   "metadata": {},
   "source": [
    "# Evaluate TF-IDF Ranker"
   ]
  },
  {
   "cell_type": "code",
   "execution_count": 9,
   "metadata": {},
   "outputs": [],
   "source": [
    "tf_idf_ranker = TFIDFRanker(bible_chapter_index, nlp_tokenizer)"
   ]
  },
  {
   "cell_type": "code",
   "execution_count": 10,
   "metadata": {},
   "outputs": [
    {
     "name": "stdout",
     "output_type": "stream",
     "text": [
      "What is the significance of the covenant God made with Abraham?\n"
     ]
    },
    {
     "name": "stderr",
     "output_type": "stream",
     "text": [
      "100%|██████████| 1189/1189 [00:00<00:00, 74009.07it/s]\n"
     ]
    },
    {
     "name": "stdout",
     "output_type": "stream",
     "text": [
      "0.7333333333333333\n",
      "\n",
      "If God is merciful and kind, why do people still suffer in this world?\n"
     ]
    },
    {
     "name": "stderr",
     "output_type": "stream",
     "text": [
      "100%|██████████| 1189/1189 [00:00<00:00, 14759.67it/s]\n"
     ]
    },
    {
     "name": "stdout",
     "output_type": "stream",
     "text": [
      "0.9333333333333333\n",
      "\n",
      "How do the ten commandments apply today?\n"
     ]
    },
    {
     "name": "stderr",
     "output_type": "stream",
     "text": [
      "100%|██████████| 1189/1189 [00:00<00:00, 25622.85it/s]\n"
     ]
    },
    {
     "name": "stdout",
     "output_type": "stream",
     "text": [
      "0.6666666666666666\n",
      "\n",
      "Where does God show up in our lives if he is not bounded by this world?\n"
     ]
    },
    {
     "name": "stderr",
     "output_type": "stream",
     "text": [
      "100%|██████████| 1189/1189 [00:00<00:00, 14559.90it/s]\n"
     ]
    },
    {
     "name": "stdout",
     "output_type": "stream",
     "text": [
      "0.7333333333333333\n",
      "\n",
      "Who were the kings of Israel and were they faithful to God?\n"
     ]
    },
    {
     "name": "stderr",
     "output_type": "stream",
     "text": [
      "100%|██████████| 1189/1189 [00:00<00:00, 19172.91it/s]\n"
     ]
    },
    {
     "name": "stdout",
     "output_type": "stream",
     "text": [
      "0.6666666666666666\n",
      "\n",
      "What are the eternal consequences of sin?\n"
     ]
    },
    {
     "name": "stderr",
     "output_type": "stream",
     "text": [
      "100%|██████████| 1189/1189 [00:00<00:00, 39424.39it/s]\n"
     ]
    },
    {
     "name": "stdout",
     "output_type": "stream",
     "text": [
      "0.7333333333333333\n",
      "\n",
      "Why did Jesus die on the cross?\n"
     ]
    },
    {
     "name": "stderr",
     "output_type": "stream",
     "text": [
      "100%|██████████| 1189/1189 [00:00<00:00, 15165.05it/s]\n"
     ]
    },
    {
     "name": "stdout",
     "output_type": "stream",
     "text": [
      "0.6666666666666666\n",
      "\n",
      "How can we be faithful to God?\n"
     ]
    },
    {
     "name": "stderr",
     "output_type": "stream",
     "text": [
      "100%|██████████| 1189/1189 [00:00<00:00, 50119.87it/s]\n"
     ]
    },
    {
     "name": "stdout",
     "output_type": "stream",
     "text": [
      "0.6666666666666666\n",
      "\n",
      "Where does God lead his people to?\n"
     ]
    },
    {
     "name": "stderr",
     "output_type": "stream",
     "text": [
      "100%|██████████| 1189/1189 [00:00<00:00, 20111.66it/s]\n"
     ]
    },
    {
     "name": "stdout",
     "output_type": "stream",
     "text": [
      "0.8\n",
      "\n",
      "Who are the enemies of God?\n"
     ]
    },
    {
     "name": "stderr",
     "output_type": "stream",
     "text": [
      "100%|██████████| 1189/1189 [00:00<00:00, 38565.85it/s]\n"
     ]
    },
    {
     "name": "stdout",
     "output_type": "stream",
     "text": [
      "1.0\n",
      "\n",
      "What did God do to unloyal servants?\n"
     ]
    },
    {
     "name": "stderr",
     "output_type": "stream",
     "text": [
      "100%|██████████| 1189/1189 [00:00<00:00, 46370.25it/s]\n"
     ]
    },
    {
     "name": "stdout",
     "output_type": "stream",
     "text": [
      "0.8\n",
      "\n",
      "Why should we listen to authority and what are the exceptions?\n"
     ]
    },
    {
     "name": "stderr",
     "output_type": "stream",
     "text": [
      "100%|██████████| 1189/1189 [00:00<00:00, 38441.29it/s]\n"
     ]
    },
    {
     "name": "stdout",
     "output_type": "stream",
     "text": [
      "0.6666666666666666\n",
      "\n",
      "How do we get saved and know when we are saved?\n"
     ]
    },
    {
     "name": "stderr",
     "output_type": "stream",
     "text": [
      "100%|██████████| 1189/1189 [00:00<00:00, 16509.62it/s]\n"
     ]
    },
    {
     "name": "stdout",
     "output_type": "stream",
     "text": [
      "0.4666666666666667\n",
      "\n",
      "Where did Paul travel to spread the good news?\n"
     ]
    },
    {
     "name": "stderr",
     "output_type": "stream",
     "text": [
      "100%|██████████| 1189/1189 [00:00<00:00, 19821.49it/s]\n"
     ]
    },
    {
     "name": "stdout",
     "output_type": "stream",
     "text": [
      "0.6666666666666666\n",
      "\n",
      "Who does God want us to reach out to?\n"
     ]
    },
    {
     "name": "stderr",
     "output_type": "stream",
     "text": [
      "100%|██████████| 1189/1189 [00:00<00:00, 19355.75it/s]\n"
     ]
    },
    {
     "name": "stdout",
     "output_type": "stream",
     "text": [
      "0.4\n",
      "\n",
      "What does God say about spirituality?\n"
     ]
    },
    {
     "name": "stderr",
     "output_type": "stream",
     "text": [
      "100%|██████████| 1189/1189 [00:00<00:00, 54560.87it/s]\n"
     ]
    },
    {
     "name": "stdout",
     "output_type": "stream",
     "text": [
      "0.8\n",
      "\n",
      "Why did Judas betray Jesus?\n"
     ]
    },
    {
     "name": "stderr",
     "output_type": "stream",
     "text": [
      "100%|██████████| 1189/1189 [00:00<00:00, 18555.69it/s]\n"
     ]
    },
    {
     "name": "stdout",
     "output_type": "stream",
     "text": [
      "0.5333333333333333\n",
      "\n",
      "How do we face discrimination and injustice?\n"
     ]
    },
    {
     "name": "stderr",
     "output_type": "stream",
     "text": [
      "100%|██████████| 1189/1189 [00:00<00:00, 46772.09it/s]\n"
     ]
    },
    {
     "name": "stdout",
     "output_type": "stream",
     "text": [
      "0.8\n",
      "\n",
      "Where do we find comfort and peace?\n"
     ]
    },
    {
     "name": "stderr",
     "output_type": "stream",
     "text": [
      "100%|██████████| 1189/1189 [00:00<00:00, 23551.71it/s]\n"
     ]
    },
    {
     "name": "stdout",
     "output_type": "stream",
     "text": [
      "0.5333333333333333\n",
      "\n",
      "Who has received prophecies from God?\n"
     ]
    },
    {
     "name": "stderr",
     "output_type": "stream",
     "text": [
      "100%|██████████| 1189/1189 [00:00<00:00, 24406.13it/s]\n"
     ]
    },
    {
     "name": "stdout",
     "output_type": "stream",
     "text": [
      "0.9333333333333333\n",
      "\n"
     ]
    }
   ],
   "source": [
    "tf_idf_ranker_eval_results = eval_ranker.evaluate_ranker_results(tf_idf_ranker)"
   ]
  },
  {
   "cell_type": "code",
   "execution_count": 11,
   "metadata": {},
   "outputs": [
    {
     "data": {
      "text/plain": [
       "[('What is the significance of the covenant God made with Abraham?',\n",
       "  0.7333333333333333),\n",
       " ('If God is merciful and kind, why do people still suffer in this world?',\n",
       "  0.9333333333333333),\n",
       " ('How do the ten commandments apply today?', 0.6666666666666666),\n",
       " ('Where does God show up in our lives if he is not bounded by this world?',\n",
       "  0.7333333333333333),\n",
       " ('Who were the kings of Israel and were they faithful to God?',\n",
       "  0.6666666666666666),\n",
       " ('What are the eternal consequences of sin?', 0.7333333333333333),\n",
       " ('Why did Jesus die on the cross?', 0.6666666666666666),\n",
       " ('How can we be faithful to God?', 0.6666666666666666),\n",
       " ('Where does God lead his people to?', 0.8),\n",
       " ('Who are the enemies of God?', 1.0),\n",
       " ('What did God do to unloyal servants?', 0.8),\n",
       " ('Why should we listen to authority and what are the exceptions?',\n",
       "  0.6666666666666666),\n",
       " ('How do we get saved and know when we are saved?', 0.4666666666666667),\n",
       " ('Where did Paul travel to spread the good news?', 0.6666666666666666),\n",
       " ('Who does God want us to reach out to?', 0.4),\n",
       " ('What does God say about spirituality?', 0.8),\n",
       " ('Why did Judas betray Jesus?', 0.5333333333333333),\n",
       " ('How do we face discrimination and injustice?', 0.8),\n",
       " ('Where do we find comfort and peace?', 0.5333333333333333),\n",
       " ('Who has received prophecies from God?', 0.9333333333333333)]"
      ]
     },
     "execution_count": 11,
     "metadata": {},
     "output_type": "execute_result"
    }
   ],
   "source": [
    "tf_idf_ranker_eval_results"
   ]
  },
  {
   "cell_type": "markdown",
   "metadata": {},
   "source": [
    "# Evaluate BM25 Ranker"
   ]
  },
  {
   "cell_type": "code",
   "execution_count": 12,
   "metadata": {},
   "outputs": [],
   "source": [
    "bm25_ranker = BM25Ranker(bible_chapter_index, nlp_tokenizer)"
   ]
  },
  {
   "cell_type": "code",
   "execution_count": 13,
   "metadata": {},
   "outputs": [
    {
     "name": "stdout",
     "output_type": "stream",
     "text": [
      "What is the significance of the covenant God made with Abraham?\n"
     ]
    },
    {
     "name": "stderr",
     "output_type": "stream",
     "text": [
      "100%|██████████| 1189/1189 [00:00<00:00, 49887.74it/s]\n"
     ]
    },
    {
     "name": "stdout",
     "output_type": "stream",
     "text": [
      "0.6\n",
      "\n",
      "If God is merciful and kind, why do people still suffer in this world?\n"
     ]
    },
    {
     "name": "stderr",
     "output_type": "stream",
     "text": [
      "100%|██████████| 1189/1189 [00:00<00:00, 13080.04it/s]\n"
     ]
    },
    {
     "name": "stdout",
     "output_type": "stream",
     "text": [
      "0.8\n",
      "\n",
      "How do the ten commandments apply today?\n"
     ]
    },
    {
     "name": "stderr",
     "output_type": "stream",
     "text": [
      "100%|██████████| 1189/1189 [00:00<00:00, 33621.62it/s]\n"
     ]
    },
    {
     "name": "stdout",
     "output_type": "stream",
     "text": [
      "0.6666666666666666\n",
      "\n",
      "Where does God show up in our lives if he is not bounded by this world?\n"
     ]
    },
    {
     "name": "stderr",
     "output_type": "stream",
     "text": [
      "100%|██████████| 1189/1189 [00:00<00:00, 14883.01it/s]\n"
     ]
    },
    {
     "name": "stdout",
     "output_type": "stream",
     "text": [
      "0.6\n",
      "\n",
      "Who were the kings of Israel and were they faithful to God?\n"
     ]
    },
    {
     "name": "stderr",
     "output_type": "stream",
     "text": [
      "100%|██████████| 1189/1189 [00:00<00:00, 17143.09it/s]\n"
     ]
    },
    {
     "name": "stdout",
     "output_type": "stream",
     "text": [
      "1.0\n",
      "\n",
      "What are the eternal consequences of sin?\n"
     ]
    },
    {
     "name": "stderr",
     "output_type": "stream",
     "text": [
      "100%|██████████| 1189/1189 [00:00<00:00, 35359.46it/s]\n"
     ]
    },
    {
     "name": "stdout",
     "output_type": "stream",
     "text": [
      "0.6666666666666666\n",
      "\n",
      "Why did Jesus die on the cross?\n"
     ]
    },
    {
     "name": "stderr",
     "output_type": "stream",
     "text": [
      "100%|██████████| 1189/1189 [00:00<00:00, 12905.68it/s]\n"
     ]
    },
    {
     "name": "stdout",
     "output_type": "stream",
     "text": [
      "0.6\n",
      "\n",
      "How can we be faithful to God?\n"
     ]
    },
    {
     "name": "stderr",
     "output_type": "stream",
     "text": [
      "100%|██████████| 1189/1189 [00:00<00:00, 42475.32it/s]\n"
     ]
    },
    {
     "name": "stdout",
     "output_type": "stream",
     "text": [
      "0.26666666666666666\n",
      "\n",
      "Where does God lead his people to?\n"
     ]
    },
    {
     "name": "stderr",
     "output_type": "stream",
     "text": [
      "100%|██████████| 1189/1189 [00:00<00:00, 18014.83it/s]\n"
     ]
    },
    {
     "name": "stdout",
     "output_type": "stream",
     "text": [
      "0.9333333333333333\n",
      "\n",
      "Who are the enemies of God?\n"
     ]
    },
    {
     "name": "stderr",
     "output_type": "stream",
     "text": [
      "100%|██████████| 1189/1189 [00:00<00:00, 36396.61it/s]\n"
     ]
    },
    {
     "name": "stdout",
     "output_type": "stream",
     "text": [
      "0.6\n",
      "\n",
      "What did God do to unloyal servants?\n"
     ]
    },
    {
     "name": "stderr",
     "output_type": "stream",
     "text": [
      "100%|██████████| 1189/1189 [00:00<00:00, 40582.22it/s]\n"
     ]
    },
    {
     "name": "stdout",
     "output_type": "stream",
     "text": [
      "0.4666666666666667\n",
      "\n",
      "Why should we listen to authority and what are the exceptions?\n"
     ]
    },
    {
     "name": "stderr",
     "output_type": "stream",
     "text": [
      "100%|██████████| 1189/1189 [00:00<00:00, 29709.27it/s]\n"
     ]
    },
    {
     "name": "stdout",
     "output_type": "stream",
     "text": [
      "0.6\n",
      "\n",
      "How do we get saved and know when we are saved?\n"
     ]
    },
    {
     "name": "stderr",
     "output_type": "stream",
     "text": [
      "100%|██████████| 1189/1189 [00:00<00:00, 12990.26it/s]\n"
     ]
    },
    {
     "name": "stdout",
     "output_type": "stream",
     "text": [
      "0.4666666666666667\n",
      "\n",
      "Where did Paul travel to spread the good news?\n"
     ]
    },
    {
     "name": "stderr",
     "output_type": "stream",
     "text": [
      "100%|██████████| 1189/1189 [00:00<00:00, 17294.03it/s]\n"
     ]
    },
    {
     "name": "stdout",
     "output_type": "stream",
     "text": [
      "0.6666666666666666\n",
      "\n",
      "Who does God want us to reach out to?\n"
     ]
    },
    {
     "name": "stderr",
     "output_type": "stream",
     "text": [
      "100%|██████████| 1189/1189 [00:00<00:00, 22385.24it/s]\n"
     ]
    },
    {
     "name": "stdout",
     "output_type": "stream",
     "text": [
      "0.5333333333333333\n",
      "\n",
      "What does God say about spirituality?\n"
     ]
    },
    {
     "name": "stderr",
     "output_type": "stream",
     "text": [
      "100%|██████████| 1189/1189 [00:00<00:00, 40310.61it/s]\n"
     ]
    },
    {
     "name": "stdout",
     "output_type": "stream",
     "text": [
      "0.8666666666666667\n",
      "\n",
      "Why did Judas betray Jesus?\n"
     ]
    },
    {
     "name": "stderr",
     "output_type": "stream",
     "text": [
      "100%|██████████| 1189/1189 [00:00<00:00, 20249.42it/s]\n"
     ]
    },
    {
     "name": "stdout",
     "output_type": "stream",
     "text": [
      "0.6666666666666666\n",
      "\n",
      "How do we face discrimination and injustice?\n"
     ]
    },
    {
     "name": "stderr",
     "output_type": "stream",
     "text": [
      "100%|██████████| 1189/1189 [00:00<00:00, 56319.41it/s]\n"
     ]
    },
    {
     "name": "stdout",
     "output_type": "stream",
     "text": [
      "0.3333333333333333\n",
      "\n",
      "Where do we find comfort and peace?\n"
     ]
    },
    {
     "name": "stderr",
     "output_type": "stream",
     "text": [
      "100%|██████████| 1189/1189 [00:00<00:00, 29584.66it/s]\n"
     ]
    },
    {
     "name": "stdout",
     "output_type": "stream",
     "text": [
      "0.5333333333333333\n",
      "\n",
      "Who has received prophecies from God?\n"
     ]
    },
    {
     "name": "stderr",
     "output_type": "stream",
     "text": [
      "100%|██████████| 1189/1189 [00:00<00:00, 33050.75it/s]\n"
     ]
    },
    {
     "name": "stdout",
     "output_type": "stream",
     "text": [
      "1.0\n",
      "\n"
     ]
    }
   ],
   "source": [
    "bm25_ranker_eval_results = eval_ranker.evaluate_ranker_results(bm25_ranker)"
   ]
  },
  {
   "cell_type": "code",
   "execution_count": 14,
   "metadata": {},
   "outputs": [
    {
     "data": {
      "text/plain": [
       "[('What is the significance of the covenant God made with Abraham?', 0.6),\n",
       " ('If God is merciful and kind, why do people still suffer in this world?',\n",
       "  0.8),\n",
       " ('How do the ten commandments apply today?', 0.6666666666666666),\n",
       " ('Where does God show up in our lives if he is not bounded by this world?',\n",
       "  0.6),\n",
       " ('Who were the kings of Israel and were they faithful to God?', 1.0),\n",
       " ('What are the eternal consequences of sin?', 0.6666666666666666),\n",
       " ('Why did Jesus die on the cross?', 0.6),\n",
       " ('How can we be faithful to God?', 0.26666666666666666),\n",
       " ('Where does God lead his people to?', 0.9333333333333333),\n",
       " ('Who are the enemies of God?', 0.6),\n",
       " ('What did God do to unloyal servants?', 0.4666666666666667),\n",
       " ('Why should we listen to authority and what are the exceptions?', 0.6),\n",
       " ('How do we get saved and know when we are saved?', 0.4666666666666667),\n",
       " ('Where did Paul travel to spread the good news?', 0.6666666666666666),\n",
       " ('Who does God want us to reach out to?', 0.5333333333333333),\n",
       " ('What does God say about spirituality?', 0.8666666666666667),\n",
       " ('Why did Judas betray Jesus?', 0.6666666666666666),\n",
       " ('How do we face discrimination and injustice?', 0.3333333333333333),\n",
       " ('Where do we find comfort and peace?', 0.5333333333333333),\n",
       " ('Who has received prophecies from God?', 1.0)]"
      ]
     },
     "execution_count": 14,
     "metadata": {},
     "output_type": "execute_result"
    }
   ],
   "source": [
    "bm25_ranker_eval_results"
   ]
  },
  {
   "cell_type": "markdown",
   "metadata": {},
   "source": [
    "## Evaluate Dirichlet LM Ranker"
   ]
  },
  {
   "cell_type": "code",
   "execution_count": 15,
   "metadata": {},
   "outputs": [],
   "source": [
    "dirichlet_lm_ranker = DirichletLMRanker(bible_chapter_index, nlp_tokenizer)"
   ]
  },
  {
   "cell_type": "code",
   "execution_count": 16,
   "metadata": {},
   "outputs": [
    {
     "name": "stdout",
     "output_type": "stream",
     "text": [
      "What is the significance of the covenant God made with Abraham?\n"
     ]
    },
    {
     "name": "stderr",
     "output_type": "stream",
     "text": [
      "100%|██████████| 1189/1189 [00:00<00:00, 84504.40it/s]\n"
     ]
    },
    {
     "name": "stdout",
     "output_type": "stream",
     "text": [
      "0.4\n",
      "\n",
      "If God is merciful and kind, why do people still suffer in this world?\n"
     ]
    },
    {
     "name": "stderr",
     "output_type": "stream",
     "text": [
      "100%|██████████| 1189/1189 [00:00<00:00, 18399.67it/s]\n"
     ]
    },
    {
     "name": "stdout",
     "output_type": "stream",
     "text": [
      "0.6666666666666666\n",
      "\n",
      "How do the ten commandments apply today?\n"
     ]
    },
    {
     "name": "stderr",
     "output_type": "stream",
     "text": [
      "100%|██████████| 1189/1189 [00:00<00:00, 39219.45it/s]\n"
     ]
    },
    {
     "name": "stdout",
     "output_type": "stream",
     "text": [
      "0.5333333333333333\n",
      "\n",
      "Where does God show up in our lives if he is not bounded by this world?\n"
     ]
    },
    {
     "name": "stderr",
     "output_type": "stream",
     "text": [
      "100%|██████████| 1189/1189 [00:00<00:00, 21782.36it/s]\n"
     ]
    },
    {
     "name": "stdout",
     "output_type": "stream",
     "text": [
      "0.6666666666666666\n",
      "\n",
      "Who were the kings of Israel and were they faithful to God?\n"
     ]
    },
    {
     "name": "stderr",
     "output_type": "stream",
     "text": [
      "100%|██████████| 1189/1189 [00:00<00:00, 28300.65it/s]\n"
     ]
    },
    {
     "name": "stdout",
     "output_type": "stream",
     "text": [
      "0.8\n",
      "\n",
      "What are the eternal consequences of sin?\n"
     ]
    },
    {
     "name": "stderr",
     "output_type": "stream",
     "text": [
      "100%|██████████| 1189/1189 [00:00<00:00, 58460.45it/s]\n"
     ]
    },
    {
     "name": "stdout",
     "output_type": "stream",
     "text": [
      "0.4666666666666667\n",
      "\n",
      "Why did Jesus die on the cross?\n"
     ]
    },
    {
     "name": "stderr",
     "output_type": "stream",
     "text": [
      "100%|██████████| 1189/1189 [00:00<00:00, 18204.22it/s]\n"
     ]
    },
    {
     "name": "stdout",
     "output_type": "stream",
     "text": [
      "0.26666666666666666\n",
      "\n",
      "How can we be faithful to God?\n"
     ]
    },
    {
     "name": "stderr",
     "output_type": "stream",
     "text": [
      "100%|██████████| 1189/1189 [00:00<00:00, 75082.09it/s]\n"
     ]
    },
    {
     "name": "stdout",
     "output_type": "stream",
     "text": [
      "0.4\n",
      "\n",
      "Where does God lead his people to?\n"
     ]
    },
    {
     "name": "stderr",
     "output_type": "stream",
     "text": [
      "100%|██████████| 1189/1189 [00:00<00:00, 26423.58it/s]\n"
     ]
    },
    {
     "name": "stdout",
     "output_type": "stream",
     "text": [
      "0.8\n",
      "\n",
      "Who are the enemies of God?\n"
     ]
    },
    {
     "name": "stderr",
     "output_type": "stream",
     "text": [
      "100%|██████████| 1189/1189 [00:00<00:00, 61973.75it/s]\n"
     ]
    },
    {
     "name": "stdout",
     "output_type": "stream",
     "text": [
      "0.8\n",
      "\n",
      "What did God do to unloyal servants?\n"
     ]
    },
    {
     "name": "stderr",
     "output_type": "stream",
     "text": [
      "100%|██████████| 1189/1189 [00:00<00:00, 66270.15it/s]\n"
     ]
    },
    {
     "name": "stdout",
     "output_type": "stream",
     "text": [
      "0.6\n",
      "\n",
      "Why should we listen to authority and what are the exceptions?\n"
     ]
    },
    {
     "name": "stderr",
     "output_type": "stream",
     "text": [
      "100%|██████████| 1189/1189 [00:00<00:00, 49367.71it/s]\n"
     ]
    },
    {
     "name": "stdout",
     "output_type": "stream",
     "text": [
      "0.5333333333333333\n",
      "\n",
      "How do we get saved and know when we are saved?\n"
     ]
    },
    {
     "name": "stderr",
     "output_type": "stream",
     "text": [
      "100%|██████████| 1189/1189 [00:00<00:00, 20351.14it/s]\n"
     ]
    },
    {
     "name": "stdout",
     "output_type": "stream",
     "text": [
      "0.13333333333333333\n",
      "\n",
      "Where did Paul travel to spread the good news?\n"
     ]
    },
    {
     "name": "stderr",
     "output_type": "stream",
     "text": [
      "100%|██████████| 1189/1189 [00:00<00:00, 17613.23it/s]\n"
     ]
    },
    {
     "name": "stdout",
     "output_type": "stream",
     "text": [
      "0.2\n",
      "\n",
      "Who does God want us to reach out to?\n"
     ]
    },
    {
     "name": "stderr",
     "output_type": "stream",
     "text": [
      "100%|██████████| 1189/1189 [00:00<00:00, 19154.50it/s]\n"
     ]
    },
    {
     "name": "stdout",
     "output_type": "stream",
     "text": [
      "0.4\n",
      "\n",
      "What does God say about spirituality?\n"
     ]
    },
    {
     "name": "stderr",
     "output_type": "stream",
     "text": [
      "100%|██████████| 1189/1189 [00:00<00:00, 31173.60it/s]\n"
     ]
    },
    {
     "name": "stdout",
     "output_type": "stream",
     "text": [
      "0.6666666666666666\n",
      "\n",
      "Why did Judas betray Jesus?\n"
     ]
    },
    {
     "name": "stderr",
     "output_type": "stream",
     "text": [
      "100%|██████████| 1189/1189 [00:00<00:00, 18162.19it/s]\n"
     ]
    },
    {
     "name": "stdout",
     "output_type": "stream",
     "text": [
      "0.4666666666666667\n",
      "\n",
      "How do we face discrimination and injustice?\n"
     ]
    },
    {
     "name": "stderr",
     "output_type": "stream",
     "text": [
      "100%|██████████| 1189/1189 [00:00<00:00, 37507.45it/s]\n"
     ]
    },
    {
     "name": "stdout",
     "output_type": "stream",
     "text": [
      "0.3333333333333333\n",
      "\n",
      "Where do we find comfort and peace?\n"
     ]
    },
    {
     "name": "stderr",
     "output_type": "stream",
     "text": [
      "100%|██████████| 1189/1189 [00:00<00:00, 21815.52it/s]\n"
     ]
    },
    {
     "name": "stdout",
     "output_type": "stream",
     "text": [
      "0.4\n",
      "\n",
      "Who has received prophecies from God?\n"
     ]
    },
    {
     "name": "stderr",
     "output_type": "stream",
     "text": [
      "100%|██████████| 1189/1189 [00:00<00:00, 17247.74it/s]\n"
     ]
    },
    {
     "name": "stdout",
     "output_type": "stream",
     "text": [
      "0.6666666666666666\n",
      "\n"
     ]
    }
   ],
   "source": [
    "dirichlet_lm_ranker_eval_results = eval_ranker.evaluate_ranker_results(dirichlet_lm_ranker)"
   ]
  },
  {
   "cell_type": "code",
   "execution_count": 17,
   "metadata": {},
   "outputs": [
    {
     "data": {
      "text/plain": [
       "[('What is the significance of the covenant God made with Abraham?', 0.4),\n",
       " ('If God is merciful and kind, why do people still suffer in this world?',\n",
       "  0.6666666666666666),\n",
       " ('How do the ten commandments apply today?', 0.5333333333333333),\n",
       " ('Where does God show up in our lives if he is not bounded by this world?',\n",
       "  0.6666666666666666),\n",
       " ('Who were the kings of Israel and were they faithful to God?', 0.8),\n",
       " ('What are the eternal consequences of sin?', 0.4666666666666667),\n",
       " ('Why did Jesus die on the cross?', 0.26666666666666666),\n",
       " ('How can we be faithful to God?', 0.4),\n",
       " ('Where does God lead his people to?', 0.8),\n",
       " ('Who are the enemies of God?', 0.8),\n",
       " ('What did God do to unloyal servants?', 0.6),\n",
       " ('Why should we listen to authority and what are the exceptions?',\n",
       "  0.5333333333333333),\n",
       " ('How do we get saved and know when we are saved?', 0.13333333333333333),\n",
       " ('Where did Paul travel to spread the good news?', 0.2),\n",
       " ('Who does God want us to reach out to?', 0.4),\n",
       " ('What does God say about spirituality?', 0.6666666666666666),\n",
       " ('Why did Judas betray Jesus?', 0.4666666666666667),\n",
       " ('How do we face discrimination and injustice?', 0.3333333333333333),\n",
       " ('Where do we find comfort and peace?', 0.4),\n",
       " ('Who has received prophecies from God?', 0.6666666666666666)]"
      ]
     },
     "execution_count": 17,
     "metadata": {},
     "output_type": "execute_result"
    }
   ],
   "source": [
    "dirichlet_lm_ranker_eval_results"
   ]
  },
  {
   "cell_type": "markdown",
   "metadata": {},
   "source": [
    "# Evaluate Colbert Ranker"
   ]
  },
  {
   "cell_type": "code",
   "execution_count": 18,
   "metadata": {},
   "outputs": [],
   "source": [
    "colbert_ranker = ColbertRanker(\"colbert-ir/colbertv2.0\", \"bible_chapters\")"
   ]
  },
  {
   "cell_type": "code",
   "execution_count": 19,
   "metadata": {},
   "outputs": [
    {
     "name": "stdout",
     "output_type": "stream",
     "text": [
      "What is the significance of the covenant God made with Abraham?\n",
      "0.6666666666666666\n",
      "\n",
      "If God is merciful and kind, why do people still suffer in this world?\n",
      "0.6\n",
      "\n",
      "How do the ten commandments apply today?\n",
      "0.8666666666666667\n",
      "\n",
      "Where does God show up in our lives if he is not bounded by this world?\n",
      "0.8666666666666667\n",
      "\n",
      "Who were the kings of Israel and were they faithful to God?\n",
      "0.7333333333333333\n",
      "\n",
      "What are the eternal consequences of sin?\n",
      "0.4666666666666667\n",
      "\n",
      "Why did Jesus die on the cross?\n",
      "0.4\n",
      "\n",
      "How can we be faithful to God?\n",
      "0.5333333333333333\n",
      "\n",
      "Where does God lead his people to?\n",
      "0.8\n",
      "\n",
      "Who are the enemies of God?\n",
      "0.6666666666666666\n",
      "\n",
      "What did God do to unloyal servants?\n",
      "0.3333333333333333\n",
      "\n",
      "Why should we listen to authority and what are the exceptions?\n",
      "0.4666666666666667\n",
      "\n",
      "How do we get saved and know when we are saved?\n",
      "0.3333333333333333\n",
      "\n",
      "Where did Paul travel to spread the good news?\n",
      "0.7333333333333333\n",
      "\n",
      "Who does God want us to reach out to?\n",
      "0.26666666666666666\n",
      "\n",
      "What does God say about spirituality?\n",
      "0.6666666666666666\n",
      "\n",
      "Why did Judas betray Jesus?\n",
      "0.6666666666666666\n",
      "\n",
      "How do we face discrimination and injustice?\n",
      "0.5333333333333333\n",
      "\n",
      "Where do we find comfort and peace?\n",
      "0.6666666666666666\n",
      "\n",
      "Who has received prophecies from God?\n",
      "0.8666666666666667\n",
      "\n"
     ]
    }
   ],
   "source": [
    "colbert_ranker_eval_results = eval_ranker.evaluate_ranker_results(colbert_ranker)"
   ]
  },
  {
   "cell_type": "code",
   "execution_count": 20,
   "metadata": {},
   "outputs": [
    {
     "data": {
      "text/plain": [
       "[('What is the significance of the covenant God made with Abraham?',\n",
       "  0.6666666666666666),\n",
       " ('If God is merciful and kind, why do people still suffer in this world?',\n",
       "  0.6),\n",
       " ('How do the ten commandments apply today?', 0.8666666666666667),\n",
       " ('Where does God show up in our lives if he is not bounded by this world?',\n",
       "  0.8666666666666667),\n",
       " ('Who were the kings of Israel and were they faithful to God?',\n",
       "  0.7333333333333333),\n",
       " ('What are the eternal consequences of sin?', 0.4666666666666667),\n",
       " ('Why did Jesus die on the cross?', 0.4),\n",
       " ('How can we be faithful to God?', 0.5333333333333333),\n",
       " ('Where does God lead his people to?', 0.8),\n",
       " ('Who are the enemies of God?', 0.6666666666666666),\n",
       " ('What did God do to unloyal servants?', 0.3333333333333333),\n",
       " ('Why should we listen to authority and what are the exceptions?',\n",
       "  0.4666666666666667),\n",
       " ('How do we get saved and know when we are saved?', 0.3333333333333333),\n",
       " ('Where did Paul travel to spread the good news?', 0.7333333333333333),\n",
       " ('Who does God want us to reach out to?', 0.26666666666666666),\n",
       " ('What does God say about spirituality?', 0.6666666666666666),\n",
       " ('Why did Judas betray Jesus?', 0.6666666666666666),\n",
       " ('How do we face discrimination and injustice?', 0.5333333333333333),\n",
       " ('Where do we find comfort and peace?', 0.6666666666666666),\n",
       " ('Who has received prophecies from God?', 0.8666666666666667)]"
      ]
     },
     "execution_count": 20,
     "metadata": {},
     "output_type": "execute_result"
    }
   ],
   "source": [
    "colbert_ranker_eval_results"
   ]
  },
  {
   "cell_type": "markdown",
   "metadata": {},
   "source": [
    "# Evalute Bi-Encoder Ranker"
   ]
  },
  {
   "cell_type": "code",
   "execution_count": 21,
   "metadata": {},
   "outputs": [],
   "source": [
    "encoded_chapters = np.load(\"bible_search_engine/bible_data/encoded_chapters_niv.npy\")\n",
    "with open(\"bible_search_engine/bible_data/chapterids_niv.json\", \"rb\") as chapter_ids_file:\n",
    "    chapter_ids = orjson.loads(chapter_ids_file.readline())\n",
    "bi_encoder_ranker = BiEncoderRanker(\n",
    "    'msmarco-distilbert-dot-v5', encoded_chapters, chapter_ids\n",
    ")"
   ]
  },
  {
   "cell_type": "code",
   "execution_count": 22,
   "metadata": {},
   "outputs": [
    {
     "name": "stdout",
     "output_type": "stream",
     "text": [
      "What is the significance of the covenant God made with Abraham?\n",
      "0.5333333333333333\n",
      "\n",
      "If God is merciful and kind, why do people still suffer in this world?\n",
      "0.7333333333333333\n",
      "\n",
      "How do the ten commandments apply today?\n",
      "0.4666666666666667\n",
      "\n",
      "Where does God show up in our lives if he is not bounded by this world?\n",
      "0.7333333333333333\n",
      "\n",
      "Who were the kings of Israel and were they faithful to God?\n",
      "0.6666666666666666\n",
      "\n",
      "What are the eternal consequences of sin?\n",
      "0.13333333333333333\n",
      "\n",
      "Why did Jesus die on the cross?\n",
      "0.5333333333333333\n",
      "\n",
      "How can we be faithful to God?\n",
      "0.8\n",
      "\n",
      "Where does God lead his people to?\n",
      "0.7333333333333333\n",
      "\n",
      "Who are the enemies of God?\n",
      "0.8\n",
      "\n",
      "What did God do to unloyal servants?\n",
      "0.2\n",
      "\n",
      "Why should we listen to authority and what are the exceptions?\n",
      "0.5333333333333333\n",
      "\n",
      "How do we get saved and know when we are saved?\n",
      "0.3333333333333333\n",
      "\n",
      "Where did Paul travel to spread the good news?\n",
      "0.6666666666666666\n",
      "\n",
      "Who does God want us to reach out to?\n",
      "0.3333333333333333\n",
      "\n",
      "What does God say about spirituality?\n",
      "0.6\n",
      "\n",
      "Why did Judas betray Jesus?\n",
      "0.4666666666666667\n",
      "\n",
      "How do we face discrimination and injustice?\n",
      "0.6\n",
      "\n",
      "Where do we find comfort and peace?\n",
      "0.6666666666666666\n",
      "\n",
      "Who has received prophecies from God?\n",
      "0.6\n",
      "\n"
     ]
    }
   ],
   "source": [
    "bi_encoder_ranker_eval_results = eval_ranker.evaluate_ranker_results(bi_encoder_ranker)"
   ]
  },
  {
   "cell_type": "code",
   "execution_count": 23,
   "metadata": {},
   "outputs": [
    {
     "data": {
      "text/plain": [
       "[('What is the significance of the covenant God made with Abraham?',\n",
       "  0.5333333333333333),\n",
       " ('If God is merciful and kind, why do people still suffer in this world?',\n",
       "  0.7333333333333333),\n",
       " ('How do the ten commandments apply today?', 0.4666666666666667),\n",
       " ('Where does God show up in our lives if he is not bounded by this world?',\n",
       "  0.7333333333333333),\n",
       " ('Who were the kings of Israel and were they faithful to God?',\n",
       "  0.6666666666666666),\n",
       " ('What are the eternal consequences of sin?', 0.13333333333333333),\n",
       " ('Why did Jesus die on the cross?', 0.5333333333333333),\n",
       " ('How can we be faithful to God?', 0.8),\n",
       " ('Where does God lead his people to?', 0.7333333333333333),\n",
       " ('Who are the enemies of God?', 0.8),\n",
       " ('What did God do to unloyal servants?', 0.2),\n",
       " ('Why should we listen to authority and what are the exceptions?',\n",
       "  0.5333333333333333),\n",
       " ('How do we get saved and know when we are saved?', 0.3333333333333333),\n",
       " ('Where did Paul travel to spread the good news?', 0.6666666666666666),\n",
       " ('Who does God want us to reach out to?', 0.3333333333333333),\n",
       " ('What does God say about spirituality?', 0.6),\n",
       " ('Why did Judas betray Jesus?', 0.4666666666666667),\n",
       " ('How do we face discrimination and injustice?', 0.6),\n",
       " ('Where do we find comfort and peace?', 0.6666666666666666),\n",
       " ('Who has received prophecies from God?', 0.6)]"
      ]
     },
     "execution_count": 23,
     "metadata": {},
     "output_type": "execute_result"
    }
   ],
   "source": [
    "bi_encoder_ranker_eval_results"
   ]
  },
  {
   "cell_type": "markdown",
   "metadata": {},
   "source": [
    "# Evaluate L2R Ranker"
   ]
  },
  {
   "cell_type": "code",
   "execution_count": 24,
   "metadata": {},
   "outputs": [
    {
     "name": "stderr",
     "output_type": "stream",
     "text": [
      "929it [00:00, 14555.18it/s]\n",
      "260it [00:00, 12733.91it/s]\n"
     ]
    }
   ],
   "source": [
    "chapter_ids = []\n",
    "chapter_texts = []\n",
    "with open(\"bible_search_engine/bible_data/old_testament_niv.jsonl\") as old_testament_file:\n",
    "    for bible_chapter_line in tqdm(old_testament_file):\n",
    "        bible_chapter = orjson.loads(bible_chapter_line)\n",
    "        chapter_ids.append(bible_chapter[\"chapterid\"])\n",
    "        chapter_texts.append(\" \".join(bible_chapter[\"verses\"].values()))\n",
    "with open(\"bible_search_engine/bible_data/new_testament_niv.jsonl\") as new_testament_file:\n",
    "    for bible_chapter_line in tqdm(new_testament_file):\n",
    "        bible_chapter = orjson.loads(bible_chapter_line)\n",
    "        chapter_ids.append(bible_chapter[\"chapterid\"])\n",
    "        chapter_texts.append(\" \".join(bible_chapter[\"verses\"].values()))"
   ]
  },
  {
   "cell_type": "code",
   "execution_count": 25,
   "metadata": {},
   "outputs": [],
   "source": [
    "colbert_ranker = ColbertRanker(\"colbert-ir/colbertv2.0\", \"bible_chapters\")"
   ]
  },
  {
   "cell_type": "code",
   "execution_count": 26,
   "metadata": {},
   "outputs": [],
   "source": [
    "l2r_feature_extractor = L2RFeatureExtractor(bible_chapter_index, nlp_tokenizer, tf_idf_ranker, bm25_ranker, dirichlet_lm_ranker, bi_encoder_ranker)"
   ]
  },
  {
   "cell_type": "code",
   "execution_count": 27,
   "metadata": {},
   "outputs": [],
   "source": [
    "l2r_ranker = L2RRanker(bible_chapter_index, nlp_tokenizer, colbert_ranker, l2r_feature_extractor)\n",
    "l2r_ranker.lightgbm_ranker = joblib.load(\"bible_search_engine/initial_ranker_niv.pkl\")"
   ]
  },
  {
   "cell_type": "code",
   "execution_count": 28,
   "metadata": {},
   "outputs": [],
   "source": [
    "with open(\"bible_search_engine/initial_params_niv.json\", \"rb\") as hp_file:\n",
    "    hp_dict = orjson.loads(hp_file.read())\n",
    "l2r_ranker.feature_extractor.bm25_ranker.set_params(hp_dict[\"b\"], hp_dict[\"k1\"], hp_dict[\"k3\"])\n",
    "l2r_ranker.feature_extractor.dirichlet_lm_ranker.set_params(hp_dict[\"mu\"])"
   ]
  },
  {
   "cell_type": "code",
   "execution_count": 29,
   "metadata": {},
   "outputs": [
    {
     "name": "stdout",
     "output_type": "stream",
     "text": [
      "What is the significance of the covenant God made with Abraham?\n"
     ]
    },
    {
     "name": "stderr",
     "output_type": "stream",
     "text": [
      "100%|██████████| 200/200 [00:00<00:00, 2025.62it/s]\n",
      "C:\\Users\\ronen\\AppData\\Local\\Packages\\PythonSoftwareFoundation.Python.3.11_qbz5n2kfra8p0\\LocalCache\\local-packages\\Python311\\site-packages\\sklearn\\utils\\validation.py:2739: UserWarning: X does not have valid feature names, but LGBMRanker was fitted with feature names\n",
      "  warnings.warn(\n"
     ]
    },
    {
     "name": "stdout",
     "output_type": "stream",
     "text": [
      "0.9333333333333333\n",
      "\n",
      "If God is merciful and kind, why do people still suffer in this world?\n"
     ]
    },
    {
     "name": "stderr",
     "output_type": "stream",
     "text": [
      "100%|██████████| 200/200 [00:00<00:00, 1319.26it/s]\n",
      "C:\\Users\\ronen\\AppData\\Local\\Packages\\PythonSoftwareFoundation.Python.3.11_qbz5n2kfra8p0\\LocalCache\\local-packages\\Python311\\site-packages\\sklearn\\utils\\validation.py:2739: UserWarning: X does not have valid feature names, but LGBMRanker was fitted with feature names\n",
      "  warnings.warn(\n"
     ]
    },
    {
     "name": "stdout",
     "output_type": "stream",
     "text": [
      "1.0\n",
      "\n",
      "How do the ten commandments apply today?\n"
     ]
    },
    {
     "name": "stderr",
     "output_type": "stream",
     "text": [
      "100%|██████████| 200/200 [00:00<00:00, 2015.53it/s]\n",
      "C:\\Users\\ronen\\AppData\\Local\\Packages\\PythonSoftwareFoundation.Python.3.11_qbz5n2kfra8p0\\LocalCache\\local-packages\\Python311\\site-packages\\sklearn\\utils\\validation.py:2739: UserWarning: X does not have valid feature names, but LGBMRanker was fitted with feature names\n",
      "  warnings.warn(\n"
     ]
    },
    {
     "name": "stdout",
     "output_type": "stream",
     "text": [
      "0.8666666666666667\n",
      "\n",
      "Where does God show up in our lives if he is not bounded by this world?\n"
     ]
    },
    {
     "name": "stderr",
     "output_type": "stream",
     "text": [
      "100%|██████████| 200/200 [00:00<00:00, 1720.27it/s]\n",
      "C:\\Users\\ronen\\AppData\\Local\\Packages\\PythonSoftwareFoundation.Python.3.11_qbz5n2kfra8p0\\LocalCache\\local-packages\\Python311\\site-packages\\sklearn\\utils\\validation.py:2739: UserWarning: X does not have valid feature names, but LGBMRanker was fitted with feature names\n",
      "  warnings.warn(\n"
     ]
    },
    {
     "name": "stdout",
     "output_type": "stream",
     "text": [
      "1.0\n",
      "\n",
      "Who were the kings of Israel and were they faithful to God?\n"
     ]
    },
    {
     "name": "stderr",
     "output_type": "stream",
     "text": [
      "100%|██████████| 200/200 [00:00<00:00, 1750.18it/s]\n",
      "C:\\Users\\ronen\\AppData\\Local\\Packages\\PythonSoftwareFoundation.Python.3.11_qbz5n2kfra8p0\\LocalCache\\local-packages\\Python311\\site-packages\\sklearn\\utils\\validation.py:2739: UserWarning: X does not have valid feature names, but LGBMRanker was fitted with feature names\n",
      "  warnings.warn(\n"
     ]
    },
    {
     "name": "stdout",
     "output_type": "stream",
     "text": [
      "0.8666666666666667\n",
      "\n",
      "What are the eternal consequences of sin?\n"
     ]
    },
    {
     "name": "stderr",
     "output_type": "stream",
     "text": [
      "100%|██████████| 200/200 [00:00<00:00, 2020.11it/s]\n",
      "C:\\Users\\ronen\\AppData\\Local\\Packages\\PythonSoftwareFoundation.Python.3.11_qbz5n2kfra8p0\\LocalCache\\local-packages\\Python311\\site-packages\\sklearn\\utils\\validation.py:2739: UserWarning: X does not have valid feature names, but LGBMRanker was fitted with feature names\n",
      "  warnings.warn(\n"
     ]
    },
    {
     "name": "stdout",
     "output_type": "stream",
     "text": [
      "0.5333333333333333\n",
      "\n",
      "Why did Jesus die on the cross?\n"
     ]
    },
    {
     "name": "stderr",
     "output_type": "stream",
     "text": [
      "100%|██████████| 200/200 [00:00<00:00, 1551.77it/s]\n",
      "C:\\Users\\ronen\\AppData\\Local\\Packages\\PythonSoftwareFoundation.Python.3.11_qbz5n2kfra8p0\\LocalCache\\local-packages\\Python311\\site-packages\\sklearn\\utils\\validation.py:2739: UserWarning: X does not have valid feature names, but LGBMRanker was fitted with feature names\n",
      "  warnings.warn(\n"
     ]
    },
    {
     "name": "stdout",
     "output_type": "stream",
     "text": [
      "0.9333333333333333\n",
      "\n",
      "How can we be faithful to God?\n"
     ]
    },
    {
     "name": "stderr",
     "output_type": "stream",
     "text": [
      "100%|██████████| 200/200 [00:00<00:00, 2463.67it/s]\n",
      "C:\\Users\\ronen\\AppData\\Local\\Packages\\PythonSoftwareFoundation.Python.3.11_qbz5n2kfra8p0\\LocalCache\\local-packages\\Python311\\site-packages\\sklearn\\utils\\validation.py:2739: UserWarning: X does not have valid feature names, but LGBMRanker was fitted with feature names\n",
      "  warnings.warn(\n"
     ]
    },
    {
     "name": "stdout",
     "output_type": "stream",
     "text": [
      "1.0\n",
      "\n",
      "Where does God lead his people to?\n"
     ]
    },
    {
     "name": "stderr",
     "output_type": "stream",
     "text": [
      "100%|██████████| 200/200 [00:00<00:00, 1881.44it/s]\n",
      "C:\\Users\\ronen\\AppData\\Local\\Packages\\PythonSoftwareFoundation.Python.3.11_qbz5n2kfra8p0\\LocalCache\\local-packages\\Python311\\site-packages\\sklearn\\utils\\validation.py:2739: UserWarning: X does not have valid feature names, but LGBMRanker was fitted with feature names\n",
      "  warnings.warn(\n"
     ]
    },
    {
     "name": "stdout",
     "output_type": "stream",
     "text": [
      "0.8666666666666667\n",
      "\n",
      "Who are the enemies of God?\n"
     ]
    },
    {
     "name": "stderr",
     "output_type": "stream",
     "text": [
      "100%|██████████| 200/200 [00:00<00:00, 2201.03it/s]\n",
      "C:\\Users\\ronen\\AppData\\Local\\Packages\\PythonSoftwareFoundation.Python.3.11_qbz5n2kfra8p0\\LocalCache\\local-packages\\Python311\\site-packages\\sklearn\\utils\\validation.py:2739: UserWarning: X does not have valid feature names, but LGBMRanker was fitted with feature names\n",
      "  warnings.warn(\n"
     ]
    },
    {
     "name": "stdout",
     "output_type": "stream",
     "text": [
      "1.0\n",
      "\n",
      "What did God do to unloyal servants?\n"
     ]
    },
    {
     "name": "stderr",
     "output_type": "stream",
     "text": [
      "100%|██████████| 200/200 [00:00<00:00, 2039.09it/s]\n",
      "C:\\Users\\ronen\\AppData\\Local\\Packages\\PythonSoftwareFoundation.Python.3.11_qbz5n2kfra8p0\\LocalCache\\local-packages\\Python311\\site-packages\\sklearn\\utils\\validation.py:2739: UserWarning: X does not have valid feature names, but LGBMRanker was fitted with feature names\n",
      "  warnings.warn(\n"
     ]
    },
    {
     "name": "stdout",
     "output_type": "stream",
     "text": [
      "0.6\n",
      "\n",
      "Why should we listen to authority and what are the exceptions?\n"
     ]
    },
    {
     "name": "stderr",
     "output_type": "stream",
     "text": [
      "100%|██████████| 200/200 [00:00<00:00, 1875.12it/s]\n",
      "C:\\Users\\ronen\\AppData\\Local\\Packages\\PythonSoftwareFoundation.Python.3.11_qbz5n2kfra8p0\\LocalCache\\local-packages\\Python311\\site-packages\\sklearn\\utils\\validation.py:2739: UserWarning: X does not have valid feature names, but LGBMRanker was fitted with feature names\n",
      "  warnings.warn(\n"
     ]
    },
    {
     "name": "stdout",
     "output_type": "stream",
     "text": [
      "0.7333333333333333\n",
      "\n",
      "How do we get saved and know when we are saved?\n"
     ]
    },
    {
     "name": "stderr",
     "output_type": "stream",
     "text": [
      "100%|██████████| 200/200 [00:00<00:00, 1716.24it/s]\n",
      "C:\\Users\\ronen\\AppData\\Local\\Packages\\PythonSoftwareFoundation.Python.3.11_qbz5n2kfra8p0\\LocalCache\\local-packages\\Python311\\site-packages\\sklearn\\utils\\validation.py:2739: UserWarning: X does not have valid feature names, but LGBMRanker was fitted with feature names\n",
      "  warnings.warn(\n"
     ]
    },
    {
     "name": "stdout",
     "output_type": "stream",
     "text": [
      "0.4666666666666667\n",
      "\n",
      "Where did Paul travel to spread the good news?\n"
     ]
    },
    {
     "name": "stderr",
     "output_type": "stream",
     "text": [
      "100%|██████████| 200/200 [00:00<00:00, 1801.80it/s]\n",
      "C:\\Users\\ronen\\AppData\\Local\\Packages\\PythonSoftwareFoundation.Python.3.11_qbz5n2kfra8p0\\LocalCache\\local-packages\\Python311\\site-packages\\sklearn\\utils\\validation.py:2739: UserWarning: X does not have valid feature names, but LGBMRanker was fitted with feature names\n",
      "  warnings.warn(\n"
     ]
    },
    {
     "name": "stdout",
     "output_type": "stream",
     "text": [
      "0.9333333333333333\n",
      "\n",
      "Who does God want us to reach out to?\n"
     ]
    },
    {
     "name": "stderr",
     "output_type": "stream",
     "text": [
      "100%|██████████| 200/200 [00:00<00:00, 2085.77it/s]\n",
      "C:\\Users\\ronen\\AppData\\Local\\Packages\\PythonSoftwareFoundation.Python.3.11_qbz5n2kfra8p0\\LocalCache\\local-packages\\Python311\\site-packages\\sklearn\\utils\\validation.py:2739: UserWarning: X does not have valid feature names, but LGBMRanker was fitted with feature names\n",
      "  warnings.warn(\n"
     ]
    },
    {
     "name": "stdout",
     "output_type": "stream",
     "text": [
      "0.6\n",
      "\n",
      "What does God say about spirituality?\n"
     ]
    },
    {
     "name": "stderr",
     "output_type": "stream",
     "text": [
      "100%|██████████| 200/200 [00:00<00:00, 2362.04it/s]\n",
      "C:\\Users\\ronen\\AppData\\Local\\Packages\\PythonSoftwareFoundation.Python.3.11_qbz5n2kfra8p0\\LocalCache\\local-packages\\Python311\\site-packages\\sklearn\\utils\\validation.py:2739: UserWarning: X does not have valid feature names, but LGBMRanker was fitted with feature names\n",
      "  warnings.warn(\n"
     ]
    },
    {
     "name": "stdout",
     "output_type": "stream",
     "text": [
      "0.9333333333333333\n",
      "\n",
      "Why did Judas betray Jesus?\n"
     ]
    },
    {
     "name": "stderr",
     "output_type": "stream",
     "text": [
      "100%|██████████| 200/200 [00:00<00:00, 1970.79it/s]\n",
      "C:\\Users\\ronen\\AppData\\Local\\Packages\\PythonSoftwareFoundation.Python.3.11_qbz5n2kfra8p0\\LocalCache\\local-packages\\Python311\\site-packages\\sklearn\\utils\\validation.py:2739: UserWarning: X does not have valid feature names, but LGBMRanker was fitted with feature names\n",
      "  warnings.warn(\n"
     ]
    },
    {
     "name": "stdout",
     "output_type": "stream",
     "text": [
      "0.8\n",
      "\n",
      "How do we face discrimination and injustice?\n"
     ]
    },
    {
     "name": "stderr",
     "output_type": "stream",
     "text": [
      "100%|██████████| 200/200 [00:00<00:00, 2559.29it/s]\n",
      "C:\\Users\\ronen\\AppData\\Local\\Packages\\PythonSoftwareFoundation.Python.3.11_qbz5n2kfra8p0\\LocalCache\\local-packages\\Python311\\site-packages\\sklearn\\utils\\validation.py:2739: UserWarning: X does not have valid feature names, but LGBMRanker was fitted with feature names\n",
      "  warnings.warn(\n"
     ]
    },
    {
     "name": "stdout",
     "output_type": "stream",
     "text": [
      "0.6\n",
      "\n",
      "Where do we find comfort and peace?\n"
     ]
    },
    {
     "name": "stderr",
     "output_type": "stream",
     "text": [
      "100%|██████████| 200/200 [00:00<00:00, 4401.85it/s]\n",
      "C:\\Users\\ronen\\AppData\\Local\\Packages\\PythonSoftwareFoundation.Python.3.11_qbz5n2kfra8p0\\LocalCache\\local-packages\\Python311\\site-packages\\sklearn\\utils\\validation.py:2739: UserWarning: X does not have valid feature names, but LGBMRanker was fitted with feature names\n",
      "  warnings.warn(\n"
     ]
    },
    {
     "name": "stdout",
     "output_type": "stream",
     "text": [
      "0.7333333333333333\n",
      "\n",
      "Who has received prophecies from God?\n"
     ]
    },
    {
     "name": "stderr",
     "output_type": "stream",
     "text": [
      "100%|██████████| 200/200 [00:00<00:00, 2354.49it/s]\n",
      "C:\\Users\\ronen\\AppData\\Local\\Packages\\PythonSoftwareFoundation.Python.3.11_qbz5n2kfra8p0\\LocalCache\\local-packages\\Python311\\site-packages\\sklearn\\utils\\validation.py:2739: UserWarning: X does not have valid feature names, but LGBMRanker was fitted with feature names\n",
      "  warnings.warn(\n"
     ]
    },
    {
     "name": "stdout",
     "output_type": "stream",
     "text": [
      "0.9333333333333333\n",
      "\n"
     ]
    }
   ],
   "source": [
    "l2r_ranker_eval_results = eval_ranker.evaluate_ranker_results(l2r_ranker)"
   ]
  },
  {
   "cell_type": "code",
   "execution_count": 30,
   "metadata": {},
   "outputs": [
    {
     "data": {
      "text/plain": [
       "[('What is the significance of the covenant God made with Abraham?',\n",
       "  0.9333333333333333),\n",
       " ('If God is merciful and kind, why do people still suffer in this world?',\n",
       "  1.0),\n",
       " ('How do the ten commandments apply today?', 0.8666666666666667),\n",
       " ('Where does God show up in our lives if he is not bounded by this world?',\n",
       "  1.0),\n",
       " ('Who were the kings of Israel and were they faithful to God?',\n",
       "  0.8666666666666667),\n",
       " ('What are the eternal consequences of sin?', 0.5333333333333333),\n",
       " ('Why did Jesus die on the cross?', 0.9333333333333333),\n",
       " ('How can we be faithful to God?', 1.0),\n",
       " ('Where does God lead his people to?', 0.8666666666666667),\n",
       " ('Who are the enemies of God?', 1.0),\n",
       " ('What did God do to unloyal servants?', 0.6),\n",
       " ('Why should we listen to authority and what are the exceptions?',\n",
       "  0.7333333333333333),\n",
       " ('How do we get saved and know when we are saved?', 0.4666666666666667),\n",
       " ('Where did Paul travel to spread the good news?', 0.9333333333333333),\n",
       " ('Who does God want us to reach out to?', 0.6),\n",
       " ('What does God say about spirituality?', 0.9333333333333333),\n",
       " ('Why did Judas betray Jesus?', 0.8),\n",
       " ('How do we face discrimination and injustice?', 0.6),\n",
       " ('Where do we find comfort and peace?', 0.7333333333333333),\n",
       " ('Who has received prophecies from God?', 0.9333333333333333)]"
      ]
     },
     "execution_count": 30,
     "metadata": {},
     "output_type": "execute_result"
    }
   ],
   "source": [
    "l2r_ranker_eval_results"
   ]
  },
  {
   "cell_type": "markdown",
   "metadata": {},
   "source": [
    "# Plot Ranker Results"
   ]
  },
  {
   "cell_type": "code",
   "execution_count": 33,
   "metadata": {},
   "outputs": [
    {
     "data": {
      "text/html": [
       "<div>\n",
       "<style scoped>\n",
       "    .dataframe tbody tr th:only-of-type {\n",
       "        vertical-align: middle;\n",
       "    }\n",
       "\n",
       "    .dataframe tbody tr th {\n",
       "        vertical-align: top;\n",
       "    }\n",
       "\n",
       "    .dataframe thead th {\n",
       "        text-align: right;\n",
       "    }\n",
       "</style>\n",
       "<table border=\"1\" class=\"dataframe\">\n",
       "  <thead>\n",
       "    <tr style=\"text-align: right;\">\n",
       "      <th></th>\n",
       "      <th>Ranker</th>\n",
       "      <th>Ranker Type</th>\n",
       "      <th>Precision at 15</th>\n",
       "      <th>Query</th>\n",
       "    </tr>\n",
       "  </thead>\n",
       "  <tbody>\n",
       "    <tr>\n",
       "      <th>0</th>\n",
       "      <td>Random</td>\n",
       "      <td>Baseline</td>\n",
       "      <td>0.000000</td>\n",
       "      <td>What is the significance of the covenant God m...</td>\n",
       "    </tr>\n",
       "    <tr>\n",
       "      <th>1</th>\n",
       "      <td>Random</td>\n",
       "      <td>Baseline</td>\n",
       "      <td>0.133333</td>\n",
       "      <td>If God is merciful and kind, why do people sti...</td>\n",
       "    </tr>\n",
       "    <tr>\n",
       "      <th>2</th>\n",
       "      <td>Random</td>\n",
       "      <td>Baseline</td>\n",
       "      <td>0.466667</td>\n",
       "      <td>How do the ten commandments apply today?</td>\n",
       "    </tr>\n",
       "    <tr>\n",
       "      <th>3</th>\n",
       "      <td>Random</td>\n",
       "      <td>Baseline</td>\n",
       "      <td>0.600000</td>\n",
       "      <td>Where does God show up in our lives if he is n...</td>\n",
       "    </tr>\n",
       "    <tr>\n",
       "      <th>4</th>\n",
       "      <td>Random</td>\n",
       "      <td>Baseline</td>\n",
       "      <td>0.533333</td>\n",
       "      <td>Who were the kings of Israel and were they fai...</td>\n",
       "    </tr>\n",
       "    <tr>\n",
       "      <th>...</th>\n",
       "      <td>...</td>\n",
       "      <td>...</td>\n",
       "      <td>...</td>\n",
       "      <td>...</td>\n",
       "    </tr>\n",
       "    <tr>\n",
       "      <th>135</th>\n",
       "      <td>L2R</td>\n",
       "      <td>Bible Search Engine</td>\n",
       "      <td>0.933333</td>\n",
       "      <td>What does God say about spirituality?</td>\n",
       "    </tr>\n",
       "    <tr>\n",
       "      <th>136</th>\n",
       "      <td>L2R</td>\n",
       "      <td>Bible Search Engine</td>\n",
       "      <td>0.800000</td>\n",
       "      <td>Why did Judas betray Jesus?</td>\n",
       "    </tr>\n",
       "    <tr>\n",
       "      <th>137</th>\n",
       "      <td>L2R</td>\n",
       "      <td>Bible Search Engine</td>\n",
       "      <td>0.600000</td>\n",
       "      <td>How do we face discrimination and injustice?</td>\n",
       "    </tr>\n",
       "    <tr>\n",
       "      <th>138</th>\n",
       "      <td>L2R</td>\n",
       "      <td>Bible Search Engine</td>\n",
       "      <td>0.733333</td>\n",
       "      <td>Where do we find comfort and peace?</td>\n",
       "    </tr>\n",
       "    <tr>\n",
       "      <th>139</th>\n",
       "      <td>L2R</td>\n",
       "      <td>Bible Search Engine</td>\n",
       "      <td>0.933333</td>\n",
       "      <td>Who has received prophecies from God?</td>\n",
       "    </tr>\n",
       "  </tbody>\n",
       "</table>\n",
       "<p>140 rows × 4 columns</p>\n",
       "</div>"
      ],
      "text/plain": [
       "     Ranker          Ranker Type  Precision at 15  \\\n",
       "0    Random             Baseline         0.000000   \n",
       "1    Random             Baseline         0.133333   \n",
       "2    Random             Baseline         0.466667   \n",
       "3    Random             Baseline         0.600000   \n",
       "4    Random             Baseline         0.533333   \n",
       "..      ...                  ...              ...   \n",
       "135     L2R  Bible Search Engine         0.933333   \n",
       "136     L2R  Bible Search Engine         0.800000   \n",
       "137     L2R  Bible Search Engine         0.600000   \n",
       "138     L2R  Bible Search Engine         0.733333   \n",
       "139     L2R  Bible Search Engine         0.933333   \n",
       "\n",
       "                                                 Query  \n",
       "0    What is the significance of the covenant God m...  \n",
       "1    If God is merciful and kind, why do people sti...  \n",
       "2             How do the ten commandments apply today?  \n",
       "3    Where does God show up in our lives if he is n...  \n",
       "4    Who were the kings of Israel and were they fai...  \n",
       "..                                                 ...  \n",
       "135              What does God say about spirituality?  \n",
       "136                        Why did Judas betray Jesus?  \n",
       "137       How do we face discrimination and injustice?  \n",
       "138                Where do we find comfort and peace?  \n",
       "139              Who has received prophecies from God?  \n",
       "\n",
       "[140 rows x 4 columns]"
      ]
     },
     "execution_count": 33,
     "metadata": {},
     "output_type": "execute_result"
    }
   ],
   "source": [
    "rankers = ['Random'] * len(random_ranker_eval_results) + ['TF-IDF'] * len(tf_idf_ranker_eval_results) +\\\n",
    "    ['BM25'] * len(bm25_ranker_eval_results) + ['Dirichlet LM'] * len(dirichlet_lm_ranker_eval_results) +\\\n",
    "    ['Colbert'] * len(colbert_ranker_eval_results) + ['Bi-Encoder'] * len(bi_encoder_ranker_eval_results) +\\\n",
    "    ['L2R'] * len(l2r_ranker_eval_results)\n",
    "ranker_types = ['Baseline'] * (len(random_ranker_eval_results) * 6) + ['Bible Search Engine'] * (len(l2r_ranker_eval_results))\n",
    "precisions = [precision for _, precision in random_ranker_eval_results] + [precision for _, precision in tf_idf_ranker_eval_results] +\\\n",
    "    [precision for _, precision in bm25_ranker_eval_results] + [precision for _, precision in dirichlet_lm_ranker_eval_results] +\\\n",
    "    [precision for _, precision in colbert_ranker_eval_results] + [precision for _, precision in bi_encoder_ranker_eval_results] +\\\n",
    "    [precision for _, precision in l2r_ranker_eval_results]\n",
    "queries = [query for query, _ in random_ranker_eval_results] * 7\n",
    "\n",
    "if not os.path.isdir('rankers'):\n",
    "    os.mkdir('rankers')\n",
    "rankers_results = pd.DataFrame({'Ranker': rankers, 'Ranker Type': ranker_types, 'Precision at 15': precisions, 'Query': queries})\n",
    "rankers_results.to_csv('rankers/results.csv', index=None)\n",
    "rankers_results"
   ]
  },
  {
   "cell_type": "code",
   "execution_count": 34,
   "metadata": {},
   "outputs": [
    {
     "data": {
      "image/png": "[encoded data removed]",
      "text/plain": [
       "<Figure size 2000x1000 with 1 Axes>"
      ]
     },
     "metadata": {},
     "output_type": "display_data"
    }
   ],
   "source": [
    "fig, ax = plt.subplots(figsize=(20, 10))\n",
    "ranker_results_plot = sns.barplot(rankers_results, x='Ranker', y='Precision at 15', hue='Ranker Type')\n",
    "plt.title('Mean Precision at 15 For Rankers', fontsize='large')\n",
    "sns.move_legend(ranker_results_plot, 'upper left')\n",
    "plt.xlabel('Ranker', fontsize='large')\n",
    "plt.ylabel('Precision at 15', fontsize='large')\n",
    "plt.xticks(fontsize='large')\n",
    "plt.yticks(fontsize='large')\n",
    "ax.grid()\n",
    "plt.savefig('rankers/results.jpg', dpi=500, bbox_inches='tight')\n",
    "plt.show()"
   ]
  }
 ],
 "metadata": {
  "kernelspec": {
   "display_name": "Python 3",
   "language": "python",
   "name": "python3"
  },
  "language_info": {
   "codemirror_mode": {
    "name": "ipython",
    "version": 3
   },
   "file_extension": ".py",
   "mimetype": "text/x-python",
   "name": "python",
   "nbconvert_exporter": "python",
   "pygments_lexer": "ipython3",
   "version": "3.11.9"
  }
 },
 "nbformat": 4,
 "nbformat_minor": 4
}
