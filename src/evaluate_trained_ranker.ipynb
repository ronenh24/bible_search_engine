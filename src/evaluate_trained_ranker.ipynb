{
 "cells": [
  {
   "cell_type": "markdown",
   "metadata": {},
   "source": [
    "# Author"
   ]
  },
  {
   "cell_type": "markdown",
   "metadata": {},
   "source": [
    "Ronen Huang"
   ]
  },
  {
   "cell_type": "markdown",
   "metadata": {},
   "source": [
    "# Import Libraries"
   ]
  },
  {
   "cell_type": "code",
   "execution_count": 1,
   "metadata": {},
   "outputs": [],
   "source": [
    "import os\n",
    "from bible_search_engine.components.preprocess import NLPTokenizer\n",
    "from bible_search_engine.components.indexing import BibleChapterIndex\n",
    "from bible_search_engine.components.ranker import RandomRanker, TFIDFRanker, BM25Ranker, DirichletLMRanker, BiEncoderRanker, ColbertRanker\n",
    "from bible_search_engine.components.relevance import Relevance\n",
    "from bible_search_engine.components.l2r import L2RRanker, L2RFeatureExtractor\n",
    "import pandas as pd\n",
    "import matplotlib.pyplot as plt\n",
    "import seaborn as sns\n",
    "from tqdm import tqdm\n",
    "import orjson\n",
    "import numpy as np\n",
    "import joblib"
   ]
  },
  {
   "cell_type": "code",
   "execution_count": 2,
   "metadata": {},
   "outputs": [],
   "source": [
    "train_queries_path = 'bible_search_engine/bible_queries_relevances/train_queries_relevances.csv'\n",
    "test_queries_path = 'bible_search_engine/bible_queries_relevances/test_queries_relevances.csv'"
   ]
  },
  {
   "cell_type": "code",
   "execution_count": 3,
   "metadata": {},
   "outputs": [],
   "source": [
    "eval_ranker = Relevance(test_queries_path)"
   ]
  },
  {
   "cell_type": "markdown",
   "metadata": {},
   "source": [
    "# Create Bible Chapter Index"
   ]
  },
  {
   "cell_type": "code",
   "execution_count": 4,
   "metadata": {},
   "outputs": [
    {
     "name": "stderr",
     "output_type": "stream",
     "text": [
      "Device set to use cpu\n"
     ]
    }
   ],
   "source": [
    "nlp_tokenizer = NLPTokenizer()"
   ]
  },
  {
   "cell_type": "code",
   "execution_count": 5,
   "metadata": {},
   "outputs": [
    {
     "name": "stderr",
     "output_type": "stream",
     "text": [
      "10421it [00:00, 242820.15it/s]\n",
      "1189it [00:00, ?it/s]\n",
      "10421it [00:00, 483355.18it/s]\n",
      "1189it [00:00, 39881.54it/s]"
     ]
    },
    {
     "name": "stdout",
     "output_type": "stream",
     "text": [
      "Loaded Bible Index from bible_search_engine/bible_index_niv\n"
     ]
    },
    {
     "name": "stderr",
     "output_type": "stream",
     "text": [
      "\n"
     ]
    }
   ],
   "source": [
    "bible_chapter_index = BibleChapterIndex()\n",
    "bible_chapter_index.load('bible_search_engine/bible_index_niv')"
   ]
  },
  {
   "cell_type": "markdown",
   "metadata": {},
   "source": [
    "# Evaluate Random Ranker"
   ]
  },
  {
   "cell_type": "code",
   "execution_count": 6,
   "metadata": {},
   "outputs": [],
   "source": [
    "random_ranker = RandomRanker(bible_chapter_index, nlp_tokenizer)"
   ]
  },
  {
   "cell_type": "code",
   "execution_count": 7,
   "metadata": {},
   "outputs": [
    {
     "name": "stdout",
     "output_type": "stream",
     "text": [
      "What did God do to unloyal servants?\n"
     ]
    },
    {
     "name": "stderr",
     "output_type": "stream",
     "text": [
      "100%|██████████| 1189/1189 [00:00<00:00, 395795.83it/s]\n"
     ]
    },
    {
     "name": "stdout",
     "output_type": "stream",
     "text": [
      "0.06666666666666667\n",
      "\n",
      "Why should we listen to authority and what are the exceptions?\n"
     ]
    },
    {
     "name": "stderr",
     "output_type": "stream",
     "text": [
      "100%|██████████| 1189/1189 [00:00<00:00, 474819.33it/s]\n"
     ]
    },
    {
     "name": "stdout",
     "output_type": "stream",
     "text": [
      "0.0\n",
      "\n",
      "How do we get saved and know when we are saved?\n"
     ]
    },
    {
     "name": "stderr",
     "output_type": "stream",
     "text": [
      "100%|██████████| 1189/1189 [00:00<00:00, 593976.59it/s]\n"
     ]
    },
    {
     "name": "stdout",
     "output_type": "stream",
     "text": [
      "0.0\n",
      "\n",
      "Where did Paul travel to spread the good news?\n"
     ]
    },
    {
     "name": "stderr",
     "output_type": "stream",
     "text": [
      "100%|██████████| 1189/1189 [00:00<00:00, 593905.85it/s]\n"
     ]
    },
    {
     "name": "stdout",
     "output_type": "stream",
     "text": [
      "0.06666666666666667\n",
      "\n",
      "Who does God want us to reach out to?\n"
     ]
    },
    {
     "name": "stderr",
     "output_type": "stream",
     "text": [
      "100%|██████████| 1189/1189 [00:00<00:00, 433164.90it/s]\n"
     ]
    },
    {
     "name": "stdout",
     "output_type": "stream",
     "text": [
      "0.06666666666666667\n",
      "\n",
      "What does God say about spirituality?\n"
     ]
    },
    {
     "name": "stderr",
     "output_type": "stream",
     "text": [
      "100%|██████████| 1189/1189 [00:00<00:00, 593552.42it/s]\n"
     ]
    },
    {
     "name": "stdout",
     "output_type": "stream",
     "text": [
      "0.4\n",
      "\n",
      "Why did Judas betray Jesus?\n"
     ]
    },
    {
     "name": "stderr",
     "output_type": "stream",
     "text": [
      "100%|██████████| 1189/1189 [00:00<00:00, 593905.85it/s]\n"
     ]
    },
    {
     "name": "stdout",
     "output_type": "stream",
     "text": [
      "0.06666666666666667\n",
      "\n",
      "How do we face discrimination and injustice?\n"
     ]
    },
    {
     "name": "stderr",
     "output_type": "stream",
     "text": [
      "100%|██████████| 1189/1189 [00:00<00:00, 594047.34it/s]\n"
     ]
    },
    {
     "name": "stdout",
     "output_type": "stream",
     "text": [
      "0.4666666666666667\n",
      "\n",
      "Where do we find comfort and peace?\n"
     ]
    },
    {
     "name": "stderr",
     "output_type": "stream",
     "text": [
      "100%|██████████| 1189/1189 [00:00<00:00, 594118.11it/s]\n"
     ]
    },
    {
     "name": "stdout",
     "output_type": "stream",
     "text": [
      "0.3333333333333333\n",
      "\n",
      "Who has received prophecies from God?\n"
     ]
    },
    {
     "name": "stderr",
     "output_type": "stream",
     "text": [
      "100%|██████████| 1189/1189 [00:00<00:00, 593905.85it/s]"
     ]
    },
    {
     "name": "stdout",
     "output_type": "stream",
     "text": [
      "0.4\n",
      "\n"
     ]
    },
    {
     "name": "stderr",
     "output_type": "stream",
     "text": [
      "\n"
     ]
    }
   ],
   "source": [
    "random_ranker_eval_results = eval_ranker.evaluate_ranker_results(random_ranker)"
   ]
  },
  {
   "cell_type": "code",
   "execution_count": 8,
   "metadata": {},
   "outputs": [
    {
     "data": {
      "text/plain": [
       "[('What did God do to unloyal servants?', 0.06666666666666667),\n",
       " ('Why should we listen to authority and what are the exceptions?', 0.0),\n",
       " ('How do we get saved and know when we are saved?', 0.0),\n",
       " ('Where did Paul travel to spread the good news?', 0.06666666666666667),\n",
       " ('Who does God want us to reach out to?', 0.06666666666666667),\n",
       " ('What does God say about spirituality?', 0.4),\n",
       " ('Why did Judas betray Jesus?', 0.06666666666666667),\n",
       " ('How do we face discrimination and injustice?', 0.4666666666666667),\n",
       " ('Where do we find comfort and peace?', 0.3333333333333333),\n",
       " ('Who has received prophecies from God?', 0.4)]"
      ]
     },
     "execution_count": 8,
     "metadata": {},
     "output_type": "execute_result"
    }
   ],
   "source": [
    "random_ranker_eval_results"
   ]
  },
  {
   "cell_type": "markdown",
   "metadata": {},
   "source": [
    "# Evaluate TF-IDF Ranker"
   ]
  },
  {
   "cell_type": "code",
   "execution_count": 9,
   "metadata": {},
   "outputs": [],
   "source": [
    "tf_idf_ranker = TFIDFRanker(bible_chapter_index, nlp_tokenizer)"
   ]
  },
  {
   "cell_type": "code",
   "execution_count": 10,
   "metadata": {},
   "outputs": [
    {
     "name": "stdout",
     "output_type": "stream",
     "text": [
      "What did God do to unloyal servants?\n"
     ]
    },
    {
     "name": "stderr",
     "output_type": "stream",
     "text": [
      "100%|██████████| 1189/1189 [00:00<00:00, 139739.62it/s]\n"
     ]
    },
    {
     "name": "stdout",
     "output_type": "stream",
     "text": [
      "0.6\n",
      "\n",
      "Why should we listen to authority and what are the exceptions?\n"
     ]
    },
    {
     "name": "stderr",
     "output_type": "stream",
     "text": [
      "100%|██████████| 1189/1189 [00:00<00:00, 247017.06it/s]\n"
     ]
    },
    {
     "name": "stdout",
     "output_type": "stream",
     "text": [
      "0.6666666666666666\n",
      "\n",
      "How do we get saved and know when we are saved?\n"
     ]
    },
    {
     "name": "stderr",
     "output_type": "stream",
     "text": [
      "100%|██████████| 1189/1189 [00:00<00:00, 206982.13it/s]\n"
     ]
    },
    {
     "name": "stdout",
     "output_type": "stream",
     "text": [
      "0.4666666666666667\n",
      "\n",
      "Where did Paul travel to spread the good news?\n"
     ]
    },
    {
     "name": "stderr",
     "output_type": "stream",
     "text": [
      "100%|██████████| 1189/1189 [00:00<00:00, 217375.44it/s]\n"
     ]
    },
    {
     "name": "stdout",
     "output_type": "stream",
     "text": [
      "0.7333333333333333\n",
      "\n",
      "Who does God want us to reach out to?\n"
     ]
    },
    {
     "name": "stderr",
     "output_type": "stream",
     "text": [
      "100%|██████████| 1189/1189 [00:00<00:00, 153442.28it/s]\n"
     ]
    },
    {
     "name": "stdout",
     "output_type": "stream",
     "text": [
      "0.26666666666666666\n",
      "\n",
      "What does God say about spirituality?\n"
     ]
    },
    {
     "name": "stderr",
     "output_type": "stream",
     "text": [
      "100%|██████████| 1189/1189 [00:00<00:00, 181855.65it/s]\n"
     ]
    },
    {
     "name": "stdout",
     "output_type": "stream",
     "text": [
      "0.8\n",
      "\n",
      "Why did Judas betray Jesus?\n"
     ]
    },
    {
     "name": "stderr",
     "output_type": "stream",
     "text": [
      "100%|██████████| 1189/1189 [00:00<00:00, 594118.11it/s]\n"
     ]
    },
    {
     "name": "stdout",
     "output_type": "stream",
     "text": [
      "0.8\n",
      "\n",
      "How do we face discrimination and injustice?\n"
     ]
    },
    {
     "name": "stderr",
     "output_type": "stream",
     "text": [
      "100%|██████████| 1189/1189 [00:00<00:00, 285495.05it/s]\n"
     ]
    },
    {
     "name": "stdout",
     "output_type": "stream",
     "text": [
      "0.6\n",
      "\n",
      "Where do we find comfort and peace?\n"
     ]
    },
    {
     "name": "stderr",
     "output_type": "stream",
     "text": [
      "100%|██████████| 1189/1189 [00:00<00:00, 317624.83it/s]\n"
     ]
    },
    {
     "name": "stdout",
     "output_type": "stream",
     "text": [
      "0.6666666666666666\n",
      "\n",
      "Who has received prophecies from God?\n"
     ]
    },
    {
     "name": "stderr",
     "output_type": "stream",
     "text": [
      "100%|██████████| 1189/1189 [00:00<00:00, 144748.71it/s]"
     ]
    },
    {
     "name": "stdout",
     "output_type": "stream",
     "text": [
      "0.8666666666666667\n",
      "\n"
     ]
    },
    {
     "name": "stderr",
     "output_type": "stream",
     "text": [
      "\n"
     ]
    }
   ],
   "source": [
    "tf_idf_ranker_eval_results = eval_ranker.evaluate_ranker_results(tf_idf_ranker)"
   ]
  },
  {
   "cell_type": "code",
   "execution_count": 11,
   "metadata": {},
   "outputs": [
    {
     "data": {
      "text/plain": [
       "[('What did God do to unloyal servants?', 0.6),\n",
       " ('Why should we listen to authority and what are the exceptions?',\n",
       "  0.6666666666666666),\n",
       " ('How do we get saved and know when we are saved?', 0.4666666666666667),\n",
       " ('Where did Paul travel to spread the good news?', 0.7333333333333333),\n",
       " ('Who does God want us to reach out to?', 0.26666666666666666),\n",
       " ('What does God say about spirituality?', 0.8),\n",
       " ('Why did Judas betray Jesus?', 0.8),\n",
       " ('How do we face discrimination and injustice?', 0.6),\n",
       " ('Where do we find comfort and peace?', 0.6666666666666666),\n",
       " ('Who has received prophecies from God?', 0.8666666666666667)]"
      ]
     },
     "execution_count": 11,
     "metadata": {},
     "output_type": "execute_result"
    }
   ],
   "source": [
    "tf_idf_ranker_eval_results"
   ]
  },
  {
   "cell_type": "markdown",
   "metadata": {},
   "source": [
    "# Evaluate BM25 Ranker"
   ]
  },
  {
   "cell_type": "code",
   "execution_count": 12,
   "metadata": {},
   "outputs": [],
   "source": [
    "bm25_ranker = BM25Ranker(bible_chapter_index, nlp_tokenizer)"
   ]
  },
  {
   "cell_type": "code",
   "execution_count": 13,
   "metadata": {},
   "outputs": [
    {
     "name": "stdout",
     "output_type": "stream",
     "text": [
      "What did God do to unloyal servants?\n"
     ]
    },
    {
     "name": "stderr",
     "output_type": "stream",
     "text": [
      "100%|██████████| 1189/1189 [00:00<00:00, 124544.91it/s]\n"
     ]
    },
    {
     "name": "stdout",
     "output_type": "stream",
     "text": [
      "0.5333333333333333\n",
      "\n",
      "Why should we listen to authority and what are the exceptions?\n"
     ]
    },
    {
     "name": "stderr",
     "output_type": "stream",
     "text": [
      "100%|██████████| 1189/1189 [00:00<00:00, 197968.62it/s]\n"
     ]
    },
    {
     "name": "stdout",
     "output_type": "stream",
     "text": [
      "0.5333333333333333\n",
      "\n",
      "How do we get saved and know when we are saved?\n"
     ]
    },
    {
     "name": "stderr",
     "output_type": "stream",
     "text": [
      "100%|██████████| 1189/1189 [00:00<00:00, 150943.66it/s]\n"
     ]
    },
    {
     "name": "stdout",
     "output_type": "stream",
     "text": [
      "0.26666666666666666\n",
      "\n",
      "Where did Paul travel to spread the good news?\n"
     ]
    },
    {
     "name": "stderr",
     "output_type": "stream",
     "text": [
      "100%|██████████| 1189/1189 [00:00<00:00, 158127.57it/s]\n"
     ]
    },
    {
     "name": "stdout",
     "output_type": "stream",
     "text": [
      "0.6\n",
      "\n",
      "Who does God want us to reach out to?\n"
     ]
    },
    {
     "name": "stderr",
     "output_type": "stream",
     "text": [
      "100%|██████████| 1189/1189 [00:00<00:00, 122654.95it/s]\n"
     ]
    },
    {
     "name": "stdout",
     "output_type": "stream",
     "text": [
      "0.26666666666666666\n",
      "\n",
      "What does God say about spirituality?\n"
     ]
    },
    {
     "name": "stderr",
     "output_type": "stream",
     "text": [
      "100%|██████████| 1189/1189 [00:00<00:00, 148445.53it/s]\n"
     ]
    },
    {
     "name": "stdout",
     "output_type": "stream",
     "text": [
      "0.8\n",
      "\n",
      "Why did Judas betray Jesus?\n"
     ]
    },
    {
     "name": "stderr",
     "output_type": "stream",
     "text": [
      "100%|██████████| 1189/1189 [00:00<00:00, 204051.86it/s]\n"
     ]
    },
    {
     "name": "stdout",
     "output_type": "stream",
     "text": [
      "0.8\n",
      "\n",
      "How do we face discrimination and injustice?\n"
     ]
    },
    {
     "name": "stderr",
     "output_type": "stream",
     "text": [
      "100%|██████████| 1189/1189 [00:00<00:00, 148427.85it/s]\n"
     ]
    },
    {
     "name": "stdout",
     "output_type": "stream",
     "text": [
      "0.6\n",
      "\n",
      "Where do we find comfort and peace?\n"
     ]
    },
    {
     "name": "stderr",
     "output_type": "stream",
     "text": [
      "100%|██████████| 1189/1189 [00:00<00:00, 113084.52it/s]\n"
     ]
    },
    {
     "name": "stdout",
     "output_type": "stream",
     "text": [
      "0.6666666666666666\n",
      "\n",
      "Who has received prophecies from God?\n"
     ]
    },
    {
     "name": "stderr",
     "output_type": "stream",
     "text": [
      "100%|██████████| 1189/1189 [00:00<00:00, 104113.31it/s]\n"
     ]
    },
    {
     "name": "stdout",
     "output_type": "stream",
     "text": [
      "0.8666666666666667\n",
      "\n"
     ]
    }
   ],
   "source": [
    "bm25_ranker_eval_results = eval_ranker.evaluate_ranker_results(bm25_ranker)"
   ]
  },
  {
   "cell_type": "code",
   "execution_count": 14,
   "metadata": {},
   "outputs": [
    {
     "data": {
      "text/plain": [
       "[('What did God do to unloyal servants?', 0.5333333333333333),\n",
       " ('Why should we listen to authority and what are the exceptions?',\n",
       "  0.5333333333333333),\n",
       " ('How do we get saved and know when we are saved?', 0.26666666666666666),\n",
       " ('Where did Paul travel to spread the good news?', 0.6),\n",
       " ('Who does God want us to reach out to?', 0.26666666666666666),\n",
       " ('What does God say about spirituality?', 0.8),\n",
       " ('Why did Judas betray Jesus?', 0.8),\n",
       " ('How do we face discrimination and injustice?', 0.6),\n",
       " ('Where do we find comfort and peace?', 0.6666666666666666),\n",
       " ('Who has received prophecies from God?', 0.8666666666666667)]"
      ]
     },
     "execution_count": 14,
     "metadata": {},
     "output_type": "execute_result"
    }
   ],
   "source": [
    "bm25_ranker_eval_results"
   ]
  },
  {
   "cell_type": "markdown",
   "metadata": {},
   "source": [
    "## Evaluate Dirichlet LM Ranker"
   ]
  },
  {
   "cell_type": "code",
   "execution_count": 15,
   "metadata": {},
   "outputs": [],
   "source": [
    "dirichlet_lm_ranker = DirichletLMRanker(bible_chapter_index, nlp_tokenizer)"
   ]
  },
  {
   "cell_type": "code",
   "execution_count": 16,
   "metadata": {},
   "outputs": [
    {
     "name": "stdout",
     "output_type": "stream",
     "text": [
      "What did God do to unloyal servants?\n"
     ]
    },
    {
     "name": "stderr",
     "output_type": "stream",
     "text": [
      "100%|██████████| 1189/1189 [00:00<00:00, 86415.31it/s]\n"
     ]
    },
    {
     "name": "stdout",
     "output_type": "stream",
     "text": [
      "0.4666666666666667\n",
      "\n",
      "Why should we listen to authority and what are the exceptions?\n"
     ]
    },
    {
     "name": "stderr",
     "output_type": "stream",
     "text": [
      "100%|██████████| 1189/1189 [00:00<00:00, 121893.47it/s]\n"
     ]
    },
    {
     "name": "stdout",
     "output_type": "stream",
     "text": [
      "0.6666666666666666\n",
      "\n",
      "How do we get saved and know when we are saved?\n"
     ]
    },
    {
     "name": "stderr",
     "output_type": "stream",
     "text": [
      "100%|██████████| 1189/1189 [00:00<00:00, 118755.71it/s]\n"
     ]
    },
    {
     "name": "stdout",
     "output_type": "stream",
     "text": [
      "0.4\n",
      "\n",
      "Where did Paul travel to spread the good news?\n"
     ]
    },
    {
     "name": "stderr",
     "output_type": "stream",
     "text": [
      "100%|██████████| 1189/1189 [00:00<00:00, 157165.78it/s]\n"
     ]
    },
    {
     "name": "stdout",
     "output_type": "stream",
     "text": [
      "0.5333333333333333\n",
      "\n",
      "Who does God want us to reach out to?\n"
     ]
    },
    {
     "name": "stderr",
     "output_type": "stream",
     "text": [
      "100%|██████████| 1189/1189 [00:00<00:00, 113256.59it/s]\n"
     ]
    },
    {
     "name": "stdout",
     "output_type": "stream",
     "text": [
      "0.26666666666666666\n",
      "\n",
      "What does God say about spirituality?\n"
     ]
    },
    {
     "name": "stderr",
     "output_type": "stream",
     "text": [
      "100%|██████████| 1189/1189 [00:00<00:00, 135517.05it/s]\n"
     ]
    },
    {
     "name": "stdout",
     "output_type": "stream",
     "text": [
      "0.8\n",
      "\n",
      "Why did Judas betray Jesus?\n"
     ]
    },
    {
     "name": "stderr",
     "output_type": "stream",
     "text": [
      "100%|██████████| 1189/1189 [00:00<00:00, 186626.28it/s]\n"
     ]
    },
    {
     "name": "stdout",
     "output_type": "stream",
     "text": [
      "0.8\n",
      "\n",
      "How do we face discrimination and injustice?\n"
     ]
    },
    {
     "name": "stderr",
     "output_type": "stream",
     "text": [
      "100%|██████████| 1189/1189 [00:00<00:00, 197905.77it/s]\n"
     ]
    },
    {
     "name": "stdout",
     "output_type": "stream",
     "text": [
      "0.6\n",
      "\n",
      "Where do we find comfort and peace?\n"
     ]
    },
    {
     "name": "stderr",
     "output_type": "stream",
     "text": [
      "100%|██████████| 1189/1189 [00:00<00:00, 153465.89it/s]\n"
     ]
    },
    {
     "name": "stdout",
     "output_type": "stream",
     "text": [
      "0.6666666666666666\n",
      "\n",
      "Who has received prophecies from God?\n"
     ]
    },
    {
     "name": "stderr",
     "output_type": "stream",
     "text": [
      "100%|██████████| 1189/1189 [00:00<00:00, 105706.63it/s]"
     ]
    },
    {
     "name": "stdout",
     "output_type": "stream",
     "text": [
      "0.8666666666666667\n",
      "\n"
     ]
    },
    {
     "name": "stderr",
     "output_type": "stream",
     "text": [
      "\n"
     ]
    }
   ],
   "source": [
    "dirichlet_lm_ranker_eval_results = eval_ranker.evaluate_ranker_results(dirichlet_lm_ranker)"
   ]
  },
  {
   "cell_type": "code",
   "execution_count": 17,
   "metadata": {},
   "outputs": [
    {
     "data": {
      "text/plain": [
       "[('What did God do to unloyal servants?', 0.4666666666666667),\n",
       " ('Why should we listen to authority and what are the exceptions?',\n",
       "  0.6666666666666666),\n",
       " ('How do we get saved and know when we are saved?', 0.4),\n",
       " ('Where did Paul travel to spread the good news?', 0.5333333333333333),\n",
       " ('Who does God want us to reach out to?', 0.26666666666666666),\n",
       " ('What does God say about spirituality?', 0.8),\n",
       " ('Why did Judas betray Jesus?', 0.8),\n",
       " ('How do we face discrimination and injustice?', 0.6),\n",
       " ('Where do we find comfort and peace?', 0.6666666666666666),\n",
       " ('Who has received prophecies from God?', 0.8666666666666667)]"
      ]
     },
     "execution_count": 17,
     "metadata": {},
     "output_type": "execute_result"
    }
   ],
   "source": [
    "dirichlet_lm_ranker_eval_results"
   ]
  },
  {
   "cell_type": "markdown",
   "metadata": {},
   "source": [
    "# Evaluate Bi-Encoder Ranker"
   ]
  },
  {
   "cell_type": "code",
   "execution_count": 18,
   "metadata": {},
   "outputs": [],
   "source": [
    "encoded_chapters = np.load('bible_search_engine/bible_data/encoded_chapters_niv.npy')\n",
    "with open('bible_search_engine/bible_data/chapterids_niv.json', 'rb') as chapterids_file:\n",
    "    chapter_ids = orjson.loads(chapterids_file.readline())"
   ]
  },
  {
   "cell_type": "code",
   "execution_count": 19,
   "metadata": {},
   "outputs": [],
   "source": [
    "bi_encoder_ranker = BiEncoderRanker('msmarco-distilbert-dot-v5', encoded_chapters, chapter_ids)"
   ]
  },
  {
   "cell_type": "code",
   "execution_count": 20,
   "metadata": {},
   "outputs": [
    {
     "name": "stdout",
     "output_type": "stream",
     "text": [
      "What did God do to unloyal servants?\n"
     ]
    },
    {
     "name": "stderr",
     "output_type": "stream",
     "text": [
      "6937it [00:00, 2105194.04it/s]\n"
     ]
    },
    {
     "name": "stdout",
     "output_type": "stream",
     "text": [
      "0.26666666666666666\n",
      "\n",
      "Why should we listen to authority and what are the exceptions?\n"
     ]
    },
    {
     "name": "stderr",
     "output_type": "stream",
     "text": [
      "6937it [00:00, 2253573.45it/s]\n"
     ]
    },
    {
     "name": "stdout",
     "output_type": "stream",
     "text": [
      "0.4666666666666667\n",
      "\n",
      "How do we get saved and know when we are saved?\n"
     ]
    },
    {
     "name": "stderr",
     "output_type": "stream",
     "text": [
      "6937it [00:00, 3462971.54it/s]\n"
     ]
    },
    {
     "name": "stdout",
     "output_type": "stream",
     "text": [
      "0.4666666666666667\n",
      "\n",
      "Where did Paul travel to spread the good news?\n"
     ]
    },
    {
     "name": "stderr",
     "output_type": "stream",
     "text": [
      "6937it [00:00, 1730147.28it/s]\n"
     ]
    },
    {
     "name": "stdout",
     "output_type": "stream",
     "text": [
      "0.6\n",
      "\n",
      "Who does God want us to reach out to?\n"
     ]
    },
    {
     "name": "stderr",
     "output_type": "stream",
     "text": [
      "6937it [00:00, 1732310.48it/s]\n"
     ]
    },
    {
     "name": "stdout",
     "output_type": "stream",
     "text": [
      "0.4\n",
      "\n",
      "What does God say about spirituality?\n"
     ]
    },
    {
     "name": "stderr",
     "output_type": "stream",
     "text": [
      "6937it [00:00, 1731485.77it/s]\n"
     ]
    },
    {
     "name": "stdout",
     "output_type": "stream",
     "text": [
      "0.6666666666666666\n",
      "\n",
      "Why did Judas betray Jesus?\n"
     ]
    },
    {
     "name": "stderr",
     "output_type": "stream",
     "text": [
      "6937it [00:00, 1732104.23it/s]\n"
     ]
    },
    {
     "name": "stdout",
     "output_type": "stream",
     "text": [
      "0.5333333333333333\n",
      "\n",
      "How do we face discrimination and injustice?\n"
     ]
    },
    {
     "name": "stderr",
     "output_type": "stream",
     "text": [
      "6937it [00:00, 2237972.99it/s]\n"
     ]
    },
    {
     "name": "stdout",
     "output_type": "stream",
     "text": [
      "0.5333333333333333\n",
      "\n",
      "Where do we find comfort and peace?\n"
     ]
    },
    {
     "name": "stderr",
     "output_type": "stream",
     "text": [
      "6937it [00:00, 1732001.12it/s]\n"
     ]
    },
    {
     "name": "stdout",
     "output_type": "stream",
     "text": [
      "0.6666666666666666\n",
      "\n",
      "Who has received prophecies from God?\n"
     ]
    },
    {
     "name": "stderr",
     "output_type": "stream",
     "text": [
      "6937it [00:00, 1732104.23it/s]\n"
     ]
    },
    {
     "name": "stdout",
     "output_type": "stream",
     "text": [
      "0.5333333333333333\n",
      "\n"
     ]
    }
   ],
   "source": [
    "bi_encoder_ranker_eval_results = eval_ranker.evaluate_ranker_results(bi_encoder_ranker)"
   ]
  },
  {
   "cell_type": "code",
   "execution_count": 21,
   "metadata": {},
   "outputs": [
    {
     "data": {
      "text/plain": [
       "[('What did God do to unloyal servants?', 0.26666666666666666),\n",
       " ('Why should we listen to authority and what are the exceptions?',\n",
       "  0.4666666666666667),\n",
       " ('How do we get saved and know when we are saved?', 0.4666666666666667),\n",
       " ('Where did Paul travel to spread the good news?', 0.6),\n",
       " ('Who does God want us to reach out to?', 0.4),\n",
       " ('What does God say about spirituality?', 0.6666666666666666),\n",
       " ('Why did Judas betray Jesus?', 0.5333333333333333),\n",
       " ('How do we face discrimination and injustice?', 0.5333333333333333),\n",
       " ('Where do we find comfort and peace?', 0.6666666666666666),\n",
       " ('Who has received prophecies from God?', 0.5333333333333333)]"
      ]
     },
     "execution_count": 21,
     "metadata": {},
     "output_type": "execute_result"
    }
   ],
   "source": [
    "bi_encoder_ranker_eval_results"
   ]
  },
  {
   "cell_type": "markdown",
   "metadata": {},
   "source": [
    "# Evaluate L2R Ranker"
   ]
  },
  {
   "cell_type": "code",
   "execution_count": 22,
   "metadata": {},
   "outputs": [
    {
     "name": "stderr",
     "output_type": "stream",
     "text": [
      "929it [00:00, 21542.43it/s]\n",
      "260it [00:00, 15332.43it/s]\n"
     ]
    }
   ],
   "source": [
    "chapter_ids = []\n",
    "chapter_texts = []\n",
    "with open(\"bible_search_engine/bible_data/old_testament_niv.jsonl\") as old_testament_file:\n",
    "    for bible_chapter_line in tqdm(old_testament_file):\n",
    "        bible_chapter = orjson.loads(bible_chapter_line)\n",
    "        chapter_ids.append(bible_chapter[\"chapterid\"])\n",
    "        chapter_texts.append(\" \".join(bible_chapter[\"verses\"].values()))\n",
    "with open(\"bible_search_engine/bible_data/new_testament_niv.jsonl\") as new_testament_file:\n",
    "    for bible_chapter_line in tqdm(new_testament_file):\n",
    "        bible_chapter = orjson.loads(bible_chapter_line)\n",
    "        chapter_ids.append(bible_chapter[\"chapterid\"])\n",
    "        chapter_texts.append(\" \".join(bible_chapter[\"verses\"].values()))"
   ]
  },
  {
   "cell_type": "code",
   "execution_count": 23,
   "metadata": {},
   "outputs": [],
   "source": [
    "colbert_ranker = ColbertRanker(\"colbert-ir/colbertv2.0\", \"bible_chapters\")"
   ]
  },
  {
   "cell_type": "code",
   "execution_count": 24,
   "metadata": {},
   "outputs": [],
   "source": [
    "l2r_feature_extractor = L2RFeatureExtractor(bible_chapter_index, nlp_tokenizer, tf_idf_ranker, bm25_ranker, dirichlet_lm_ranker, colbert_ranker)"
   ]
  },
  {
   "cell_type": "code",
   "execution_count": 25,
   "metadata": {},
   "outputs": [],
   "source": [
    "l2r_ranker = L2RRanker(bible_chapter_index, nlp_tokenizer, bi_encoder_ranker, l2r_feature_extractor)\n",
    "l2r_ranker.lightgbm_ranker = joblib.load(\"bible_search_engine/initial_ranker_niv.pkl\")"
   ]
  },
  {
   "cell_type": "code",
   "execution_count": 26,
   "metadata": {},
   "outputs": [],
   "source": [
    "with open(\"bible_search_engine/initial_params_niv.json\", \"rb\") as hp_file:\n",
    "    hp_dict = orjson.loads(hp_file.read())\n",
    "l2r_ranker.feature_extractor.bm25_ranker.set_params(hp_dict[\"b\"], hp_dict[\"k1\"], hp_dict[\"k3\"])\n",
    "l2r_ranker.feature_extractor.dirichlet_lm_ranker.set_params(hp_dict[\"mu\"])"
   ]
  },
  {
   "cell_type": "code",
   "execution_count": 27,
   "metadata": {},
   "outputs": [
    {
     "name": "stdout",
     "output_type": "stream",
     "text": [
      "What did God do to unloyal servants?\n"
     ]
    },
    {
     "name": "stderr",
     "output_type": "stream",
     "text": [
      "6937it [00:00, 1819175.12it/s]\n",
      "100%|██████████| 100/100 [00:01<00:00, 78.36it/s]\n",
      "C:\\Users\\ronen\\AppData\\Local\\Packages\\PythonSoftwareFoundation.Python.3.11_qbz5n2kfra8p0\\LocalCache\\local-packages\\Python311\\site-packages\\sklearn\\utils\\validation.py:2739: UserWarning: X does not have valid feature names, but LGBMRanker was fitted with feature names\n",
      "  warnings.warn(\n"
     ]
    },
    {
     "name": "stdout",
     "output_type": "stream",
     "text": [
      "[LightGBM] [Warning] min_data_in_leaf is set=7, min_child_samples=20 will be ignored. Current value: min_data_in_leaf=7\n",
      "0.4\n",
      "\n",
      "Why should we listen to authority and what are the exceptions?\n"
     ]
    },
    {
     "name": "stderr",
     "output_type": "stream",
     "text": [
      "6937it [00:00, 1731176.70it/s]\n",
      "100%|██████████| 100/100 [00:01<00:00, 83.48it/s]\n",
      "C:\\Users\\ronen\\AppData\\Local\\Packages\\PythonSoftwareFoundation.Python.3.11_qbz5n2kfra8p0\\LocalCache\\local-packages\\Python311\\site-packages\\sklearn\\utils\\validation.py:2739: UserWarning: X does not have valid feature names, but LGBMRanker was fitted with feature names\n",
      "  warnings.warn(\n"
     ]
    },
    {
     "name": "stdout",
     "output_type": "stream",
     "text": [
      "[LightGBM] [Warning] min_data_in_leaf is set=7, min_child_samples=20 will be ignored. Current value: min_data_in_leaf=7\n",
      "0.6\n",
      "\n",
      "How do we get saved and know when we are saved?\n"
     ]
    },
    {
     "name": "stderr",
     "output_type": "stream",
     "text": [
      "6937it [00:00, 3465446.27it/s]\n",
      "100%|██████████| 100/100 [00:01<00:00, 90.07it/s]\n",
      "C:\\Users\\ronen\\AppData\\Local\\Packages\\PythonSoftwareFoundation.Python.3.11_qbz5n2kfra8p0\\LocalCache\\local-packages\\Python311\\site-packages\\sklearn\\utils\\validation.py:2739: UserWarning: X does not have valid feature names, but LGBMRanker was fitted with feature names\n",
      "  warnings.warn(\n"
     ]
    },
    {
     "name": "stdout",
     "output_type": "stream",
     "text": [
      "[LightGBM] [Warning] min_data_in_leaf is set=7, min_child_samples=20 will be ignored. Current value: min_data_in_leaf=7\n",
      "0.4\n",
      "\n",
      "Where did Paul travel to spread the good news?\n"
     ]
    },
    {
     "name": "stderr",
     "output_type": "stream",
     "text": [
      "6937it [00:00, 2041673.35it/s]\n",
      "100%|██████████| 100/100 [00:01<00:00, 89.56it/s]\n",
      "C:\\Users\\ronen\\AppData\\Local\\Packages\\PythonSoftwareFoundation.Python.3.11_qbz5n2kfra8p0\\LocalCache\\local-packages\\Python311\\site-packages\\sklearn\\utils\\validation.py:2739: UserWarning: X does not have valid feature names, but LGBMRanker was fitted with feature names\n",
      "  warnings.warn(\n"
     ]
    },
    {
     "name": "stdout",
     "output_type": "stream",
     "text": [
      "[LightGBM] [Warning] min_data_in_leaf is set=7, min_child_samples=20 will be ignored. Current value: min_data_in_leaf=7\n",
      "0.7333333333333333\n",
      "\n",
      "Who does God want us to reach out to?\n"
     ]
    },
    {
     "name": "stderr",
     "output_type": "stream",
     "text": [
      "6937it [00:00, 2294628.30it/s]\n",
      "100%|██████████| 100/100 [00:01<00:00, 89.20it/s]\n",
      "C:\\Users\\ronen\\AppData\\Local\\Packages\\PythonSoftwareFoundation.Python.3.11_qbz5n2kfra8p0\\LocalCache\\local-packages\\Python311\\site-packages\\sklearn\\utils\\validation.py:2739: UserWarning: X does not have valid feature names, but LGBMRanker was fitted with feature names\n",
      "  warnings.warn(\n"
     ]
    },
    {
     "name": "stdout",
     "output_type": "stream",
     "text": [
      "[LightGBM] [Warning] min_data_in_leaf is set=7, min_child_samples=20 will be ignored. Current value: min_data_in_leaf=7\n",
      "0.8\n",
      "\n",
      "What does God say about spirituality?\n"
     ]
    },
    {
     "name": "stderr",
     "output_type": "stream",
     "text": [
      "6937it [00:00, 3464620.96it/s]\n",
      "100%|██████████| 100/100 [00:01<00:00, 91.91it/s]\n",
      "C:\\Users\\ronen\\AppData\\Local\\Packages\\PythonSoftwareFoundation.Python.3.11_qbz5n2kfra8p0\\LocalCache\\local-packages\\Python311\\site-packages\\sklearn\\utils\\validation.py:2739: UserWarning: X does not have valid feature names, but LGBMRanker was fitted with feature names\n",
      "  warnings.warn(\n"
     ]
    },
    {
     "name": "stdout",
     "output_type": "stream",
     "text": [
      "[LightGBM] [Warning] min_data_in_leaf is set=7, min_child_samples=20 will be ignored. Current value: min_data_in_leaf=7\n",
      "0.9333333333333333\n",
      "\n",
      "Why did Judas betray Jesus?\n"
     ]
    },
    {
     "name": "stderr",
     "output_type": "stream",
     "text": [
      "6937it [00:00, 3465446.27it/s]\n",
      "100%|██████████| 100/100 [00:01<00:00, 88.46it/s]\n",
      "C:\\Users\\ronen\\AppData\\Local\\Packages\\PythonSoftwareFoundation.Python.3.11_qbz5n2kfra8p0\\LocalCache\\local-packages\\Python311\\site-packages\\sklearn\\utils\\validation.py:2739: UserWarning: X does not have valid feature names, but LGBMRanker was fitted with feature names\n",
      "  warnings.warn(\n"
     ]
    },
    {
     "name": "stdout",
     "output_type": "stream",
     "text": [
      "[LightGBM] [Warning] min_data_in_leaf is set=7, min_child_samples=20 will be ignored. Current value: min_data_in_leaf=7\n",
      "0.6666666666666666\n",
      "\n",
      "How do we face discrimination and injustice?\n"
     ]
    },
    {
     "name": "stderr",
     "output_type": "stream",
     "text": [
      "6937it [00:00, 2500291.04it/s]\n",
      "100%|██████████| 100/100 [00:01<00:00, 88.33it/s]\n",
      "C:\\Users\\ronen\\AppData\\Local\\Packages\\PythonSoftwareFoundation.Python.3.11_qbz5n2kfra8p0\\LocalCache\\local-packages\\Python311\\site-packages\\sklearn\\utils\\validation.py:2739: UserWarning: X does not have valid feature names, but LGBMRanker was fitted with feature names\n",
      "  warnings.warn(\n"
     ]
    },
    {
     "name": "stdout",
     "output_type": "stream",
     "text": [
      "[LightGBM] [Warning] min_data_in_leaf is set=7, min_child_samples=20 will be ignored. Current value: min_data_in_leaf=7\n",
      "0.8666666666666667\n",
      "\n",
      "Where do we find comfort and peace?\n"
     ]
    },
    {
     "name": "stderr",
     "output_type": "stream",
     "text": [
      "6937it [00:00, 2241593.75it/s]\n",
      "100%|██████████| 100/100 [00:01<00:00, 86.03it/s]\n",
      "C:\\Users\\ronen\\AppData\\Local\\Packages\\PythonSoftwareFoundation.Python.3.11_qbz5n2kfra8p0\\LocalCache\\local-packages\\Python311\\site-packages\\sklearn\\utils\\validation.py:2739: UserWarning: X does not have valid feature names, but LGBMRanker was fitted with feature names\n",
      "  warnings.warn(\n"
     ]
    },
    {
     "name": "stdout",
     "output_type": "stream",
     "text": [
      "[LightGBM] [Warning] min_data_in_leaf is set=7, min_child_samples=20 will be ignored. Current value: min_data_in_leaf=7\n",
      "0.6\n",
      "\n",
      "Who has received prophecies from God?\n"
     ]
    },
    {
     "name": "stderr",
     "output_type": "stream",
     "text": [
      "6937it [00:00, 1713639.60it/s]\n",
      "100%|██████████| 100/100 [00:01<00:00, 89.55it/s]\n",
      "C:\\Users\\ronen\\AppData\\Local\\Packages\\PythonSoftwareFoundation.Python.3.11_qbz5n2kfra8p0\\LocalCache\\local-packages\\Python311\\site-packages\\sklearn\\utils\\validation.py:2739: UserWarning: X does not have valid feature names, but LGBMRanker was fitted with feature names\n",
      "  warnings.warn(\n"
     ]
    },
    {
     "name": "stdout",
     "output_type": "stream",
     "text": [
      "[LightGBM] [Warning] min_data_in_leaf is set=7, min_child_samples=20 will be ignored. Current value: min_data_in_leaf=7\n",
      "0.7333333333333333\n",
      "\n"
     ]
    }
   ],
   "source": [
    "l2r_ranker_eval_results = eval_ranker.evaluate_ranker_results(l2r_ranker)"
   ]
  },
  {
   "cell_type": "code",
   "execution_count": 28,
   "metadata": {},
   "outputs": [
    {
     "data": {
      "text/plain": [
       "[('What did God do to unloyal servants?', 0.4),\n",
       " ('Why should we listen to authority and what are the exceptions?', 0.6),\n",
       " ('How do we get saved and know when we are saved?', 0.4),\n",
       " ('Where did Paul travel to spread the good news?', 0.7333333333333333),\n",
       " ('Who does God want us to reach out to?', 0.8),\n",
       " ('What does God say about spirituality?', 0.9333333333333333),\n",
       " ('Why did Judas betray Jesus?', 0.6666666666666666),\n",
       " ('How do we face discrimination and injustice?', 0.8666666666666667),\n",
       " ('Where do we find comfort and peace?', 0.6),\n",
       " ('Who has received prophecies from God?', 0.7333333333333333)]"
      ]
     },
     "execution_count": 28,
     "metadata": {},
     "output_type": "execute_result"
    }
   ],
   "source": [
    "l2r_ranker_eval_results"
   ]
  },
  {
   "cell_type": "markdown",
   "metadata": {},
   "source": [
    "# Plot Ranker Results"
   ]
  },
  {
   "cell_type": "code",
   "execution_count": 29,
   "metadata": {},
   "outputs": [
    {
     "data": {
      "text/html": [
       "<div>\n",
       "<style scoped>\n",
       "    .dataframe tbody tr th:only-of-type {\n",
       "        vertical-align: middle;\n",
       "    }\n",
       "\n",
       "    .dataframe tbody tr th {\n",
       "        vertical-align: top;\n",
       "    }\n",
       "\n",
       "    .dataframe thead th {\n",
       "        text-align: right;\n",
       "    }\n",
       "</style>\n",
       "<table border=\"1\" class=\"dataframe\">\n",
       "  <thead>\n",
       "    <tr style=\"text-align: right;\">\n",
       "      <th></th>\n",
       "      <th>Ranker</th>\n",
       "      <th>Ranker Type</th>\n",
       "      <th>Precision at 15</th>\n",
       "      <th>Query</th>\n",
       "    </tr>\n",
       "  </thead>\n",
       "  <tbody>\n",
       "    <tr>\n",
       "      <th>0</th>\n",
       "      <td>Random</td>\n",
       "      <td>Baseline</td>\n",
       "      <td>0.066667</td>\n",
       "      <td>What did God do to unloyal servants?</td>\n",
       "    </tr>\n",
       "    <tr>\n",
       "      <th>1</th>\n",
       "      <td>Random</td>\n",
       "      <td>Baseline</td>\n",
       "      <td>0.000000</td>\n",
       "      <td>Why should we listen to authority and what are...</td>\n",
       "    </tr>\n",
       "    <tr>\n",
       "      <th>2</th>\n",
       "      <td>Random</td>\n",
       "      <td>Baseline</td>\n",
       "      <td>0.000000</td>\n",
       "      <td>How do we get saved and know when we are saved?</td>\n",
       "    </tr>\n",
       "    <tr>\n",
       "      <th>3</th>\n",
       "      <td>Random</td>\n",
       "      <td>Baseline</td>\n",
       "      <td>0.066667</td>\n",
       "      <td>Where did Paul travel to spread the good news?</td>\n",
       "    </tr>\n",
       "    <tr>\n",
       "      <th>4</th>\n",
       "      <td>Random</td>\n",
       "      <td>Baseline</td>\n",
       "      <td>0.066667</td>\n",
       "      <td>Who does God want us to reach out to?</td>\n",
       "    </tr>\n",
       "    <tr>\n",
       "      <th>5</th>\n",
       "      <td>Random</td>\n",
       "      <td>Baseline</td>\n",
       "      <td>0.400000</td>\n",
       "      <td>What does God say about spirituality?</td>\n",
       "    </tr>\n",
       "    <tr>\n",
       "      <th>6</th>\n",
       "      <td>Random</td>\n",
       "      <td>Baseline</td>\n",
       "      <td>0.066667</td>\n",
       "      <td>Why did Judas betray Jesus?</td>\n",
       "    </tr>\n",
       "    <tr>\n",
       "      <th>7</th>\n",
       "      <td>Random</td>\n",
       "      <td>Baseline</td>\n",
       "      <td>0.466667</td>\n",
       "      <td>How do we face discrimination and injustice?</td>\n",
       "    </tr>\n",
       "    <tr>\n",
       "      <th>8</th>\n",
       "      <td>Random</td>\n",
       "      <td>Baseline</td>\n",
       "      <td>0.333333</td>\n",
       "      <td>Where do we find comfort and peace?</td>\n",
       "    </tr>\n",
       "    <tr>\n",
       "      <th>9</th>\n",
       "      <td>Random</td>\n",
       "      <td>Baseline</td>\n",
       "      <td>0.400000</td>\n",
       "      <td>Who has received prophecies from God?</td>\n",
       "    </tr>\n",
       "    <tr>\n",
       "      <th>10</th>\n",
       "      <td>TF-IDF</td>\n",
       "      <td>Baseline</td>\n",
       "      <td>0.600000</td>\n",
       "      <td>What did God do to unloyal servants?</td>\n",
       "    </tr>\n",
       "    <tr>\n",
       "      <th>11</th>\n",
       "      <td>TF-IDF</td>\n",
       "      <td>Baseline</td>\n",
       "      <td>0.666667</td>\n",
       "      <td>Why should we listen to authority and what are...</td>\n",
       "    </tr>\n",
       "    <tr>\n",
       "      <th>12</th>\n",
       "      <td>TF-IDF</td>\n",
       "      <td>Baseline</td>\n",
       "      <td>0.466667</td>\n",
       "      <td>How do we get saved and know when we are saved?</td>\n",
       "    </tr>\n",
       "    <tr>\n",
       "      <th>13</th>\n",
       "      <td>TF-IDF</td>\n",
       "      <td>Baseline</td>\n",
       "      <td>0.733333</td>\n",
       "      <td>Where did Paul travel to spread the good news?</td>\n",
       "    </tr>\n",
       "    <tr>\n",
       "      <th>14</th>\n",
       "      <td>TF-IDF</td>\n",
       "      <td>Baseline</td>\n",
       "      <td>0.266667</td>\n",
       "      <td>Who does God want us to reach out to?</td>\n",
       "    </tr>\n",
       "    <tr>\n",
       "      <th>15</th>\n",
       "      <td>TF-IDF</td>\n",
       "      <td>Baseline</td>\n",
       "      <td>0.800000</td>\n",
       "      <td>What does God say about spirituality?</td>\n",
       "    </tr>\n",
       "    <tr>\n",
       "      <th>16</th>\n",
       "      <td>TF-IDF</td>\n",
       "      <td>Baseline</td>\n",
       "      <td>0.800000</td>\n",
       "      <td>Why did Judas betray Jesus?</td>\n",
       "    </tr>\n",
       "    <tr>\n",
       "      <th>17</th>\n",
       "      <td>TF-IDF</td>\n",
       "      <td>Baseline</td>\n",
       "      <td>0.600000</td>\n",
       "      <td>How do we face discrimination and injustice?</td>\n",
       "    </tr>\n",
       "    <tr>\n",
       "      <th>18</th>\n",
       "      <td>TF-IDF</td>\n",
       "      <td>Baseline</td>\n",
       "      <td>0.666667</td>\n",
       "      <td>Where do we find comfort and peace?</td>\n",
       "    </tr>\n",
       "    <tr>\n",
       "      <th>19</th>\n",
       "      <td>TF-IDF</td>\n",
       "      <td>Baseline</td>\n",
       "      <td>0.866667</td>\n",
       "      <td>Who has received prophecies from God?</td>\n",
       "    </tr>\n",
       "    <tr>\n",
       "      <th>20</th>\n",
       "      <td>BM25</td>\n",
       "      <td>Baseline</td>\n",
       "      <td>0.533333</td>\n",
       "      <td>What did God do to unloyal servants?</td>\n",
       "    </tr>\n",
       "    <tr>\n",
       "      <th>21</th>\n",
       "      <td>BM25</td>\n",
       "      <td>Baseline</td>\n",
       "      <td>0.533333</td>\n",
       "      <td>Why should we listen to authority and what are...</td>\n",
       "    </tr>\n",
       "    <tr>\n",
       "      <th>22</th>\n",
       "      <td>BM25</td>\n",
       "      <td>Baseline</td>\n",
       "      <td>0.266667</td>\n",
       "      <td>How do we get saved and know when we are saved?</td>\n",
       "    </tr>\n",
       "    <tr>\n",
       "      <th>23</th>\n",
       "      <td>BM25</td>\n",
       "      <td>Baseline</td>\n",
       "      <td>0.600000</td>\n",
       "      <td>Where did Paul travel to spread the good news?</td>\n",
       "    </tr>\n",
       "    <tr>\n",
       "      <th>24</th>\n",
       "      <td>BM25</td>\n",
       "      <td>Baseline</td>\n",
       "      <td>0.266667</td>\n",
       "      <td>Who does God want us to reach out to?</td>\n",
       "    </tr>\n",
       "    <tr>\n",
       "      <th>25</th>\n",
       "      <td>BM25</td>\n",
       "      <td>Baseline</td>\n",
       "      <td>0.800000</td>\n",
       "      <td>What does God say about spirituality?</td>\n",
       "    </tr>\n",
       "    <tr>\n",
       "      <th>26</th>\n",
       "      <td>BM25</td>\n",
       "      <td>Baseline</td>\n",
       "      <td>0.800000</td>\n",
       "      <td>Why did Judas betray Jesus?</td>\n",
       "    </tr>\n",
       "    <tr>\n",
       "      <th>27</th>\n",
       "      <td>BM25</td>\n",
       "      <td>Baseline</td>\n",
       "      <td>0.600000</td>\n",
       "      <td>How do we face discrimination and injustice?</td>\n",
       "    </tr>\n",
       "    <tr>\n",
       "      <th>28</th>\n",
       "      <td>BM25</td>\n",
       "      <td>Baseline</td>\n",
       "      <td>0.666667</td>\n",
       "      <td>Where do we find comfort and peace?</td>\n",
       "    </tr>\n",
       "    <tr>\n",
       "      <th>29</th>\n",
       "      <td>BM25</td>\n",
       "      <td>Baseline</td>\n",
       "      <td>0.866667</td>\n",
       "      <td>Who has received prophecies from God?</td>\n",
       "    </tr>\n",
       "    <tr>\n",
       "      <th>30</th>\n",
       "      <td>Dirichlet LM</td>\n",
       "      <td>Baseline</td>\n",
       "      <td>0.533333</td>\n",
       "      <td>What did God do to unloyal servants?</td>\n",
       "    </tr>\n",
       "    <tr>\n",
       "      <th>31</th>\n",
       "      <td>Dirichlet LM</td>\n",
       "      <td>Baseline</td>\n",
       "      <td>0.533333</td>\n",
       "      <td>Why should we listen to authority and what are...</td>\n",
       "    </tr>\n",
       "    <tr>\n",
       "      <th>32</th>\n",
       "      <td>Dirichlet LM</td>\n",
       "      <td>Baseline</td>\n",
       "      <td>0.266667</td>\n",
       "      <td>How do we get saved and know when we are saved?</td>\n",
       "    </tr>\n",
       "    <tr>\n",
       "      <th>33</th>\n",
       "      <td>Dirichlet LM</td>\n",
       "      <td>Baseline</td>\n",
       "      <td>0.600000</td>\n",
       "      <td>Where did Paul travel to spread the good news?</td>\n",
       "    </tr>\n",
       "    <tr>\n",
       "      <th>34</th>\n",
       "      <td>Dirichlet LM</td>\n",
       "      <td>Baseline</td>\n",
       "      <td>0.266667</td>\n",
       "      <td>Who does God want us to reach out to?</td>\n",
       "    </tr>\n",
       "    <tr>\n",
       "      <th>35</th>\n",
       "      <td>Dirichlet LM</td>\n",
       "      <td>Baseline</td>\n",
       "      <td>0.800000</td>\n",
       "      <td>What does God say about spirituality?</td>\n",
       "    </tr>\n",
       "    <tr>\n",
       "      <th>36</th>\n",
       "      <td>Dirichlet LM</td>\n",
       "      <td>Baseline</td>\n",
       "      <td>0.800000</td>\n",
       "      <td>Why did Judas betray Jesus?</td>\n",
       "    </tr>\n",
       "    <tr>\n",
       "      <th>37</th>\n",
       "      <td>Dirichlet LM</td>\n",
       "      <td>Baseline</td>\n",
       "      <td>0.600000</td>\n",
       "      <td>How do we face discrimination and injustice?</td>\n",
       "    </tr>\n",
       "    <tr>\n",
       "      <th>38</th>\n",
       "      <td>Dirichlet LM</td>\n",
       "      <td>Baseline</td>\n",
       "      <td>0.666667</td>\n",
       "      <td>Where do we find comfort and peace?</td>\n",
       "    </tr>\n",
       "    <tr>\n",
       "      <th>39</th>\n",
       "      <td>Dirichlet LM</td>\n",
       "      <td>Baseline</td>\n",
       "      <td>0.866667</td>\n",
       "      <td>Who has received prophecies from God?</td>\n",
       "    </tr>\n",
       "    <tr>\n",
       "      <th>40</th>\n",
       "      <td>Bi-Encoder</td>\n",
       "      <td>Baseline</td>\n",
       "      <td>0.466667</td>\n",
       "      <td>What did God do to unloyal servants?</td>\n",
       "    </tr>\n",
       "    <tr>\n",
       "      <th>41</th>\n",
       "      <td>Bi-Encoder</td>\n",
       "      <td>Baseline</td>\n",
       "      <td>0.666667</td>\n",
       "      <td>Why should we listen to authority and what are...</td>\n",
       "    </tr>\n",
       "    <tr>\n",
       "      <th>42</th>\n",
       "      <td>Bi-Encoder</td>\n",
       "      <td>Baseline</td>\n",
       "      <td>0.400000</td>\n",
       "      <td>How do we get saved and know when we are saved?</td>\n",
       "    </tr>\n",
       "    <tr>\n",
       "      <th>43</th>\n",
       "      <td>Bi-Encoder</td>\n",
       "      <td>Baseline</td>\n",
       "      <td>0.533333</td>\n",
       "      <td>Where did Paul travel to spread the good news?</td>\n",
       "    </tr>\n",
       "    <tr>\n",
       "      <th>44</th>\n",
       "      <td>Bi-Encoder</td>\n",
       "      <td>Baseline</td>\n",
       "      <td>0.266667</td>\n",
       "      <td>Who does God want us to reach out to?</td>\n",
       "    </tr>\n",
       "    <tr>\n",
       "      <th>45</th>\n",
       "      <td>Bi-Encoder</td>\n",
       "      <td>Baseline</td>\n",
       "      <td>0.800000</td>\n",
       "      <td>What does God say about spirituality?</td>\n",
       "    </tr>\n",
       "    <tr>\n",
       "      <th>46</th>\n",
       "      <td>Bi-Encoder</td>\n",
       "      <td>Baseline</td>\n",
       "      <td>0.800000</td>\n",
       "      <td>Why did Judas betray Jesus?</td>\n",
       "    </tr>\n",
       "    <tr>\n",
       "      <th>47</th>\n",
       "      <td>Bi-Encoder</td>\n",
       "      <td>Baseline</td>\n",
       "      <td>0.600000</td>\n",
       "      <td>How do we face discrimination and injustice?</td>\n",
       "    </tr>\n",
       "    <tr>\n",
       "      <th>48</th>\n",
       "      <td>Bi-Encoder</td>\n",
       "      <td>Baseline</td>\n",
       "      <td>0.666667</td>\n",
       "      <td>Where do we find comfort and peace?</td>\n",
       "    </tr>\n",
       "    <tr>\n",
       "      <th>49</th>\n",
       "      <td>Bi-Encoder</td>\n",
       "      <td>Baseline</td>\n",
       "      <td>0.866667</td>\n",
       "      <td>Who has received prophecies from God?</td>\n",
       "    </tr>\n",
       "    <tr>\n",
       "      <th>50</th>\n",
       "      <td>L2R</td>\n",
       "      <td>Bible Search Engine</td>\n",
       "      <td>0.400000</td>\n",
       "      <td>What did God do to unloyal servants?</td>\n",
       "    </tr>\n",
       "    <tr>\n",
       "      <th>51</th>\n",
       "      <td>L2R</td>\n",
       "      <td>Bible Search Engine</td>\n",
       "      <td>0.600000</td>\n",
       "      <td>Why should we listen to authority and what are...</td>\n",
       "    </tr>\n",
       "    <tr>\n",
       "      <th>52</th>\n",
       "      <td>L2R</td>\n",
       "      <td>Bible Search Engine</td>\n",
       "      <td>0.400000</td>\n",
       "      <td>How do we get saved and know when we are saved?</td>\n",
       "    </tr>\n",
       "    <tr>\n",
       "      <th>53</th>\n",
       "      <td>L2R</td>\n",
       "      <td>Bible Search Engine</td>\n",
       "      <td>0.733333</td>\n",
       "      <td>Where did Paul travel to spread the good news?</td>\n",
       "    </tr>\n",
       "    <tr>\n",
       "      <th>54</th>\n",
       "      <td>L2R</td>\n",
       "      <td>Bible Search Engine</td>\n",
       "      <td>0.800000</td>\n",
       "      <td>Who does God want us to reach out to?</td>\n",
       "    </tr>\n",
       "    <tr>\n",
       "      <th>55</th>\n",
       "      <td>L2R</td>\n",
       "      <td>Bible Search Engine</td>\n",
       "      <td>0.933333</td>\n",
       "      <td>What does God say about spirituality?</td>\n",
       "    </tr>\n",
       "    <tr>\n",
       "      <th>56</th>\n",
       "      <td>L2R</td>\n",
       "      <td>Bible Search Engine</td>\n",
       "      <td>0.666667</td>\n",
       "      <td>Why did Judas betray Jesus?</td>\n",
       "    </tr>\n",
       "    <tr>\n",
       "      <th>57</th>\n",
       "      <td>L2R</td>\n",
       "      <td>Bible Search Engine</td>\n",
       "      <td>0.866667</td>\n",
       "      <td>How do we face discrimination and injustice?</td>\n",
       "    </tr>\n",
       "    <tr>\n",
       "      <th>58</th>\n",
       "      <td>L2R</td>\n",
       "      <td>Bible Search Engine</td>\n",
       "      <td>0.600000</td>\n",
       "      <td>Where do we find comfort and peace?</td>\n",
       "    </tr>\n",
       "    <tr>\n",
       "      <th>59</th>\n",
       "      <td>L2R</td>\n",
       "      <td>Bible Search Engine</td>\n",
       "      <td>0.733333</td>\n",
       "      <td>Who has received prophecies from God?</td>\n",
       "    </tr>\n",
       "  </tbody>\n",
       "</table>\n",
       "</div>"
      ],
      "text/plain": [
       "          Ranker          Ranker Type  Precision at 15  \\\n",
       "0         Random             Baseline         0.066667   \n",
       "1         Random             Baseline         0.000000   \n",
       "2         Random             Baseline         0.000000   \n",
       "3         Random             Baseline         0.066667   \n",
       "4         Random             Baseline         0.066667   \n",
       "5         Random             Baseline         0.400000   \n",
       "6         Random             Baseline         0.066667   \n",
       "7         Random             Baseline         0.466667   \n",
       "8         Random             Baseline         0.333333   \n",
       "9         Random             Baseline         0.400000   \n",
       "10        TF-IDF             Baseline         0.600000   \n",
       "11        TF-IDF             Baseline         0.666667   \n",
       "12        TF-IDF             Baseline         0.466667   \n",
       "13        TF-IDF             Baseline         0.733333   \n",
       "14        TF-IDF             Baseline         0.266667   \n",
       "15        TF-IDF             Baseline         0.800000   \n",
       "16        TF-IDF             Baseline         0.800000   \n",
       "17        TF-IDF             Baseline         0.600000   \n",
       "18        TF-IDF             Baseline         0.666667   \n",
       "19        TF-IDF             Baseline         0.866667   \n",
       "20          BM25             Baseline         0.533333   \n",
       "21          BM25             Baseline         0.533333   \n",
       "22          BM25             Baseline         0.266667   \n",
       "23          BM25             Baseline         0.600000   \n",
       "24          BM25             Baseline         0.266667   \n",
       "25          BM25             Baseline         0.800000   \n",
       "26          BM25             Baseline         0.800000   \n",
       "27          BM25             Baseline         0.600000   \n",
       "28          BM25             Baseline         0.666667   \n",
       "29          BM25             Baseline         0.866667   \n",
       "30  Dirichlet LM             Baseline         0.533333   \n",
       "31  Dirichlet LM             Baseline         0.533333   \n",
       "32  Dirichlet LM             Baseline         0.266667   \n",
       "33  Dirichlet LM             Baseline         0.600000   \n",
       "34  Dirichlet LM             Baseline         0.266667   \n",
       "35  Dirichlet LM             Baseline         0.800000   \n",
       "36  Dirichlet LM             Baseline         0.800000   \n",
       "37  Dirichlet LM             Baseline         0.600000   \n",
       "38  Dirichlet LM             Baseline         0.666667   \n",
       "39  Dirichlet LM             Baseline         0.866667   \n",
       "40    Bi-Encoder             Baseline         0.466667   \n",
       "41    Bi-Encoder             Baseline         0.666667   \n",
       "42    Bi-Encoder             Baseline         0.400000   \n",
       "43    Bi-Encoder             Baseline         0.533333   \n",
       "44    Bi-Encoder             Baseline         0.266667   \n",
       "45    Bi-Encoder             Baseline         0.800000   \n",
       "46    Bi-Encoder             Baseline         0.800000   \n",
       "47    Bi-Encoder             Baseline         0.600000   \n",
       "48    Bi-Encoder             Baseline         0.666667   \n",
       "49    Bi-Encoder             Baseline         0.866667   \n",
       "50           L2R  Bible Search Engine         0.400000   \n",
       "51           L2R  Bible Search Engine         0.600000   \n",
       "52           L2R  Bible Search Engine         0.400000   \n",
       "53           L2R  Bible Search Engine         0.733333   \n",
       "54           L2R  Bible Search Engine         0.800000   \n",
       "55           L2R  Bible Search Engine         0.933333   \n",
       "56           L2R  Bible Search Engine         0.666667   \n",
       "57           L2R  Bible Search Engine         0.866667   \n",
       "58           L2R  Bible Search Engine         0.600000   \n",
       "59           L2R  Bible Search Engine         0.733333   \n",
       "\n",
       "                                                Query  \n",
       "0                What did God do to unloyal servants?  \n",
       "1   Why should we listen to authority and what are...  \n",
       "2     How do we get saved and know when we are saved?  \n",
       "3      Where did Paul travel to spread the good news?  \n",
       "4               Who does God want us to reach out to?  \n",
       "5               What does God say about spirituality?  \n",
       "6                         Why did Judas betray Jesus?  \n",
       "7        How do we face discrimination and injustice?  \n",
       "8                 Where do we find comfort and peace?  \n",
       "9               Who has received prophecies from God?  \n",
       "10               What did God do to unloyal servants?  \n",
       "11  Why should we listen to authority and what are...  \n",
       "12    How do we get saved and know when we are saved?  \n",
       "13     Where did Paul travel to spread the good news?  \n",
       "14              Who does God want us to reach out to?  \n",
       "15              What does God say about spirituality?  \n",
       "16                        Why did Judas betray Jesus?  \n",
       "17       How do we face discrimination and injustice?  \n",
       "18                Where do we find comfort and peace?  \n",
       "19              Who has received prophecies from God?  \n",
       "20               What did God do to unloyal servants?  \n",
       "21  Why should we listen to authority and what are...  \n",
       "22    How do we get saved and know when we are saved?  \n",
       "23     Where did Paul travel to spread the good news?  \n",
       "24              Who does God want us to reach out to?  \n",
       "25              What does God say about spirituality?  \n",
       "26                        Why did Judas betray Jesus?  \n",
       "27       How do we face discrimination and injustice?  \n",
       "28                Where do we find comfort and peace?  \n",
       "29              Who has received prophecies from God?  \n",
       "30               What did God do to unloyal servants?  \n",
       "31  Why should we listen to authority and what are...  \n",
       "32    How do we get saved and know when we are saved?  \n",
       "33     Where did Paul travel to spread the good news?  \n",
       "34              Who does God want us to reach out to?  \n",
       "35              What does God say about spirituality?  \n",
       "36                        Why did Judas betray Jesus?  \n",
       "37       How do we face discrimination and injustice?  \n",
       "38                Where do we find comfort and peace?  \n",
       "39              Who has received prophecies from God?  \n",
       "40               What did God do to unloyal servants?  \n",
       "41  Why should we listen to authority and what are...  \n",
       "42    How do we get saved and know when we are saved?  \n",
       "43     Where did Paul travel to spread the good news?  \n",
       "44              Who does God want us to reach out to?  \n",
       "45              What does God say about spirituality?  \n",
       "46                        Why did Judas betray Jesus?  \n",
       "47       How do we face discrimination and injustice?  \n",
       "48                Where do we find comfort and peace?  \n",
       "49              Who has received prophecies from God?  \n",
       "50               What did God do to unloyal servants?  \n",
       "51  Why should we listen to authority and what are...  \n",
       "52    How do we get saved and know when we are saved?  \n",
       "53     Where did Paul travel to spread the good news?  \n",
       "54              Who does God want us to reach out to?  \n",
       "55              What does God say about spirituality?  \n",
       "56                        Why did Judas betray Jesus?  \n",
       "57       How do we face discrimination and injustice?  \n",
       "58                Where do we find comfort and peace?  \n",
       "59              Who has received prophecies from God?  "
      ]
     },
     "execution_count": 29,
     "metadata": {},
     "output_type": "execute_result"
    }
   ],
   "source": [
    "rankers = ['Random'] * len(random_ranker_eval_results) + ['TF-IDF'] * len(tf_idf_ranker_eval_results) +\\\n",
    "    ['BM25'] * len(bm25_ranker_eval_results) + ['Dirichlet LM'] * len(dirichlet_lm_ranker_eval_results) +\\\n",
    "    ['Bi-Encoder'] * len(bi_encoder_ranker_eval_results) + ['L2R'] * len(l2r_ranker_eval_results)\n",
    "ranker_types = ['Baseline'] * (len(random_ranker_eval_results) * 5) + ['Bible Search Engine'] * (len(l2r_ranker_eval_results))\n",
    "precisions = [precision for _, precision in random_ranker_eval_results] + [precision for _, precision in tf_idf_ranker_eval_results] +\\\n",
    "    [precision for _, precision in bm25_ranker_eval_results] + [precision for _, precision in bm25_ranker_eval_results] +\\\n",
    "    [precision for _, precision in dirichlet_lm_ranker_eval_results] + [precision for _, precision in l2r_ranker_eval_results]\n",
    "queries = [query for query, _ in random_ranker_eval_results] * 6\n",
    "\n",
    "if not os.path.isdir('rankers'):\n",
    "    os.mkdir('rankers')\n",
    "rankers_results = pd.DataFrame({'Ranker': rankers, 'Ranker Type': ranker_types, 'Precision at 15': precisions, 'Query': queries})\n",
    "rankers_results.to_csv('rankers/results.csv', index=None)\n",
    "rankers_results"
   ]
  },
  {
   "cell_type": "code",
   "execution_count": 30,
   "metadata": {},
   "outputs": [
    {
     "data": {
      "image/png": "[encoded data removed]",
      "text/plain": [
       "<Figure size 2000x1000 with 1 Axes>"
      ]
     },
     "metadata": {},
     "output_type": "display_data"
    }
   ],
   "source": [
    "fig, ax = plt.subplots(figsize=(20, 10))\n",
    "ranker_results_plot = sns.barplot(rankers_results, x='Ranker', y='Precision at 15', hue='Ranker Type')\n",
    "plt.title('Mean Precision at 15 For Rankers', fontsize='large')\n",
    "sns.move_legend(ranker_results_plot, 'upper left')\n",
    "plt.xlabel('Ranker', fontsize='large')\n",
    "plt.ylabel('Precision at 15', fontsize='large')\n",
    "plt.xticks(fontsize='large')\n",
    "plt.yticks(fontsize='large')\n",
    "ax.grid()\n",
    "plt.savefig('rankers/results.jpg', dpi=500, bbox_inches='tight')\n",
    "plt.show()"
   ]
  }
 ],
 "metadata": {
  "kernelspec": {
   "display_name": "Python 3",
   "language": "python",
   "name": "python3"
  },
  "language_info": {
   "codemirror_mode": {
    "name": "ipython",
    "version": 3
   },
   "file_extension": ".py",
   "mimetype": "text/x-python",
   "name": "python",
   "nbconvert_exporter": "python",
   "pygments_lexer": "ipython3",
   "version": "3.11.9"
  }
 },
 "nbformat": 4,
 "nbformat_minor": 4
}
